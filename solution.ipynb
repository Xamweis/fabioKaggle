{
 "cells": [
  {
   "cell_type": "code",
   "execution_count": 32,
   "metadata": {},
   "outputs": [],
   "source": [
    "import pandas as pd\n",
    "import numpy as np\n",
    "import time\n",
    "import matplotlib.pyplot as plt\n",
    "import seaborn as sns\n",
    "from sklearn.model_selection import train_test_split, GridSearchCV\n",
    "from sklearn.metrics import r2_score, mean_squared_error, mean_absolute_error\n",
    "from sklearn.preprocessing import MinMaxScaler\n",
    "from sklearn.linear_model import LinearRegression, Lasso, Ridge, ElasticNet\n",
    "from sklearn.neural_network import MLPRegressor\n",
    "from sklearn.ensemble import RandomForestRegressor\n",
    "from xgboost import XGBRegressor\n",
    "from lightgbm import LGBMRegressor\n",
    "from sklearn.neighbors import KNeighborsRegressor\n",
    "from sklearn.tree import DecisionTreeRegressor\n",
    "import pickle\n",
    "from IPython.display import clear_output"
   ]
  },
  {
   "attachments": {},
   "cell_type": "markdown",
   "metadata": {},
   "source": [
    "# `Clean dataset`"
   ]
  },
  {
   "cell_type": "code",
   "execution_count": 5,
   "metadata": {},
   "outputs": [
    {
     "data": {
      "text/plain": [
       "(640840, 10)"
      ]
     },
     "execution_count": 5,
     "metadata": {},
     "output_type": "execute_result"
    }
   ],
   "source": [
    "data = pd.read_csv('sales.csv')\n",
    "data.shape"
   ]
  },
  {
   "cell_type": "code",
   "execution_count": 6,
   "metadata": {},
   "outputs": [
    {
     "data": {
      "text/html": [
       "<div>\n",
       "<style scoped>\n",
       "    .dataframe tbody tr th:only-of-type {\n",
       "        vertical-align: middle;\n",
       "    }\n",
       "\n",
       "    .dataframe tbody tr th {\n",
       "        vertical-align: top;\n",
       "    }\n",
       "\n",
       "    .dataframe thead th {\n",
       "        text-align: right;\n",
       "    }\n",
       "</style>\n",
       "<table border=\"1\" class=\"dataframe\">\n",
       "  <thead>\n",
       "    <tr style=\"text-align: right;\">\n",
       "      <th></th>\n",
       "      <th>Unnamed: 0</th>\n",
       "      <th>store_ID</th>\n",
       "      <th>day_of_week</th>\n",
       "      <th>date</th>\n",
       "      <th>nb_customers_on_day</th>\n",
       "      <th>open</th>\n",
       "      <th>promotion</th>\n",
       "      <th>state_holiday</th>\n",
       "      <th>school_holiday</th>\n",
       "      <th>sales</th>\n",
       "    </tr>\n",
       "  </thead>\n",
       "  <tbody>\n",
       "    <tr>\n",
       "      <th>0</th>\n",
       "      <td>425390</td>\n",
       "      <td>366</td>\n",
       "      <td>4</td>\n",
       "      <td>2013-04-18</td>\n",
       "      <td>517</td>\n",
       "      <td>1</td>\n",
       "      <td>0</td>\n",
       "      <td>0</td>\n",
       "      <td>0</td>\n",
       "      <td>4422</td>\n",
       "    </tr>\n",
       "    <tr>\n",
       "      <th>1</th>\n",
       "      <td>291687</td>\n",
       "      <td>394</td>\n",
       "      <td>6</td>\n",
       "      <td>2015-04-11</td>\n",
       "      <td>694</td>\n",
       "      <td>1</td>\n",
       "      <td>0</td>\n",
       "      <td>0</td>\n",
       "      <td>0</td>\n",
       "      <td>8297</td>\n",
       "    </tr>\n",
       "    <tr>\n",
       "      <th>2</th>\n",
       "      <td>411278</td>\n",
       "      <td>807</td>\n",
       "      <td>4</td>\n",
       "      <td>2013-08-29</td>\n",
       "      <td>970</td>\n",
       "      <td>1</td>\n",
       "      <td>1</td>\n",
       "      <td>0</td>\n",
       "      <td>0</td>\n",
       "      <td>9729</td>\n",
       "    </tr>\n",
       "    <tr>\n",
       "      <th>3</th>\n",
       "      <td>664714</td>\n",
       "      <td>802</td>\n",
       "      <td>2</td>\n",
       "      <td>2013-05-28</td>\n",
       "      <td>473</td>\n",
       "      <td>1</td>\n",
       "      <td>1</td>\n",
       "      <td>0</td>\n",
       "      <td>0</td>\n",
       "      <td>6513</td>\n",
       "    </tr>\n",
       "    <tr>\n",
       "      <th>4</th>\n",
       "      <td>540835</td>\n",
       "      <td>726</td>\n",
       "      <td>4</td>\n",
       "      <td>2013-10-10</td>\n",
       "      <td>1068</td>\n",
       "      <td>1</td>\n",
       "      <td>1</td>\n",
       "      <td>0</td>\n",
       "      <td>0</td>\n",
       "      <td>10882</td>\n",
       "    </tr>\n",
       "  </tbody>\n",
       "</table>\n",
       "</div>"
      ],
      "text/plain": [
       "   Unnamed: 0  store_ID  day_of_week        date  nb_customers_on_day  open  \\\n",
       "0      425390       366            4  2013-04-18                  517     1   \n",
       "1      291687       394            6  2015-04-11                  694     1   \n",
       "2      411278       807            4  2013-08-29                  970     1   \n",
       "3      664714       802            2  2013-05-28                  473     1   \n",
       "4      540835       726            4  2013-10-10                 1068     1   \n",
       "\n",
       "   promotion state_holiday  school_holiday  sales  \n",
       "0          0             0               0   4422  \n",
       "1          0             0               0   8297  \n",
       "2          1             0               0   9729  \n",
       "3          1             0               0   6513  \n",
       "4          1             0               0  10882  "
      ]
     },
     "execution_count": 6,
     "metadata": {},
     "output_type": "execute_result"
    }
   ],
   "source": [
    "data.head()"
   ]
  },
  {
   "cell_type": "code",
   "execution_count": 7,
   "metadata": {},
   "outputs": [
    {
     "data": {
      "text/plain": [
       "(640840, 9)"
      ]
     },
     "execution_count": 7,
     "metadata": {},
     "output_type": "execute_result"
    }
   ],
   "source": [
    "data = data.drop('Unnamed: 0', axis=1)\n",
    "data.shape"
   ]
  },
  {
   "cell_type": "code",
   "execution_count": 8,
   "metadata": {},
   "outputs": [
    {
     "data": {
      "text/html": [
       "<div>\n",
       "<style scoped>\n",
       "    .dataframe tbody tr th:only-of-type {\n",
       "        vertical-align: middle;\n",
       "    }\n",
       "\n",
       "    .dataframe tbody tr th {\n",
       "        vertical-align: top;\n",
       "    }\n",
       "\n",
       "    .dataframe thead th {\n",
       "        text-align: right;\n",
       "    }\n",
       "</style>\n",
       "<table border=\"1\" class=\"dataframe\">\n",
       "  <thead>\n",
       "    <tr style=\"text-align: right;\">\n",
       "      <th></th>\n",
       "      <th>store_ID</th>\n",
       "      <th>day_of_week</th>\n",
       "      <th>date</th>\n",
       "      <th>nb_customers_on_day</th>\n",
       "      <th>open</th>\n",
       "      <th>promotion</th>\n",
       "      <th>state_holiday</th>\n",
       "      <th>school_holiday</th>\n",
       "      <th>sales</th>\n",
       "    </tr>\n",
       "  </thead>\n",
       "  <tbody>\n",
       "    <tr>\n",
       "      <th>0</th>\n",
       "      <td>366</td>\n",
       "      <td>4</td>\n",
       "      <td>2013-04-18</td>\n",
       "      <td>517</td>\n",
       "      <td>1</td>\n",
       "      <td>0</td>\n",
       "      <td>0</td>\n",
       "      <td>0</td>\n",
       "      <td>4422</td>\n",
       "    </tr>\n",
       "    <tr>\n",
       "      <th>1</th>\n",
       "      <td>394</td>\n",
       "      <td>6</td>\n",
       "      <td>2015-04-11</td>\n",
       "      <td>694</td>\n",
       "      <td>1</td>\n",
       "      <td>0</td>\n",
       "      <td>0</td>\n",
       "      <td>0</td>\n",
       "      <td>8297</td>\n",
       "    </tr>\n",
       "    <tr>\n",
       "      <th>2</th>\n",
       "      <td>807</td>\n",
       "      <td>4</td>\n",
       "      <td>2013-08-29</td>\n",
       "      <td>970</td>\n",
       "      <td>1</td>\n",
       "      <td>1</td>\n",
       "      <td>0</td>\n",
       "      <td>0</td>\n",
       "      <td>9729</td>\n",
       "    </tr>\n",
       "    <tr>\n",
       "      <th>3</th>\n",
       "      <td>802</td>\n",
       "      <td>2</td>\n",
       "      <td>2013-05-28</td>\n",
       "      <td>473</td>\n",
       "      <td>1</td>\n",
       "      <td>1</td>\n",
       "      <td>0</td>\n",
       "      <td>0</td>\n",
       "      <td>6513</td>\n",
       "    </tr>\n",
       "    <tr>\n",
       "      <th>4</th>\n",
       "      <td>726</td>\n",
       "      <td>4</td>\n",
       "      <td>2013-10-10</td>\n",
       "      <td>1068</td>\n",
       "      <td>1</td>\n",
       "      <td>1</td>\n",
       "      <td>0</td>\n",
       "      <td>0</td>\n",
       "      <td>10882</td>\n",
       "    </tr>\n",
       "  </tbody>\n",
       "</table>\n",
       "</div>"
      ],
      "text/plain": [
       "   store_ID  day_of_week        date  nb_customers_on_day  open  promotion  \\\n",
       "0       366            4  2013-04-18                  517     1          0   \n",
       "1       394            6  2015-04-11                  694     1          0   \n",
       "2       807            4  2013-08-29                  970     1          1   \n",
       "3       802            2  2013-05-28                  473     1          1   \n",
       "4       726            4  2013-10-10                 1068     1          1   \n",
       "\n",
       "  state_holiday  school_holiday  sales  \n",
       "0             0               0   4422  \n",
       "1             0               0   8297  \n",
       "2             0               0   9729  \n",
       "3             0               0   6513  \n",
       "4             0               0  10882  "
      ]
     },
     "execution_count": 8,
     "metadata": {},
     "output_type": "execute_result"
    }
   ],
   "source": [
    "data.head()"
   ]
  },
  {
   "cell_type": "code",
   "execution_count": 9,
   "metadata": {},
   "outputs": [
    {
     "data": {
      "text/plain": [
       "store_ID                int64\n",
       "day_of_week             int64\n",
       "date                   object\n",
       "nb_customers_on_day     int64\n",
       "open                    int64\n",
       "promotion               int64\n",
       "state_holiday          object\n",
       "school_holiday          int64\n",
       "sales                   int64\n",
       "dtype: object"
      ]
     },
     "execution_count": 9,
     "metadata": {},
     "output_type": "execute_result"
    }
   ],
   "source": [
    "data.dtypes"
   ]
  },
  {
   "cell_type": "code",
   "execution_count": 10,
   "metadata": {},
   "outputs": [],
   "source": [
    "data['date'] = pd.to_datetime(data['date'])\n",
    "data['year'] = data['date'].dt.year\n",
    "data['month'] = data['date'].dt.month\n",
    "data['day'] = data['date'].dt.day\n",
    "\n",
    "data.drop('date', axis=1, inplace=True)"
   ]
  },
  {
   "cell_type": "code",
   "execution_count": 11,
   "metadata": {},
   "outputs": [],
   "source": [
    "data['state_holiday'] = pd.factorize(data['state_holiday'])[0]"
   ]
  },
  {
   "cell_type": "code",
   "execution_count": 12,
   "metadata": {},
   "outputs": [
    {
     "data": {
      "text/html": [
       "<div>\n",
       "<style scoped>\n",
       "    .dataframe tbody tr th:only-of-type {\n",
       "        vertical-align: middle;\n",
       "    }\n",
       "\n",
       "    .dataframe tbody tr th {\n",
       "        vertical-align: top;\n",
       "    }\n",
       "\n",
       "    .dataframe thead th {\n",
       "        text-align: right;\n",
       "    }\n",
       "</style>\n",
       "<table border=\"1\" class=\"dataframe\">\n",
       "  <thead>\n",
       "    <tr style=\"text-align: right;\">\n",
       "      <th></th>\n",
       "      <th>store_ID</th>\n",
       "      <th>day_of_week</th>\n",
       "      <th>nb_customers_on_day</th>\n",
       "      <th>open</th>\n",
       "      <th>promotion</th>\n",
       "      <th>state_holiday</th>\n",
       "      <th>school_holiday</th>\n",
       "      <th>sales</th>\n",
       "      <th>year</th>\n",
       "      <th>month</th>\n",
       "      <th>day</th>\n",
       "    </tr>\n",
       "  </thead>\n",
       "  <tbody>\n",
       "    <tr>\n",
       "      <th>0</th>\n",
       "      <td>366</td>\n",
       "      <td>4</td>\n",
       "      <td>517</td>\n",
       "      <td>1</td>\n",
       "      <td>0</td>\n",
       "      <td>0</td>\n",
       "      <td>0</td>\n",
       "      <td>4422</td>\n",
       "      <td>2013</td>\n",
       "      <td>4</td>\n",
       "      <td>18</td>\n",
       "    </tr>\n",
       "    <tr>\n",
       "      <th>1</th>\n",
       "      <td>394</td>\n",
       "      <td>6</td>\n",
       "      <td>694</td>\n",
       "      <td>1</td>\n",
       "      <td>0</td>\n",
       "      <td>0</td>\n",
       "      <td>0</td>\n",
       "      <td>8297</td>\n",
       "      <td>2015</td>\n",
       "      <td>4</td>\n",
       "      <td>11</td>\n",
       "    </tr>\n",
       "    <tr>\n",
       "      <th>2</th>\n",
       "      <td>807</td>\n",
       "      <td>4</td>\n",
       "      <td>970</td>\n",
       "      <td>1</td>\n",
       "      <td>1</td>\n",
       "      <td>0</td>\n",
       "      <td>0</td>\n",
       "      <td>9729</td>\n",
       "      <td>2013</td>\n",
       "      <td>8</td>\n",
       "      <td>29</td>\n",
       "    </tr>\n",
       "    <tr>\n",
       "      <th>3</th>\n",
       "      <td>802</td>\n",
       "      <td>2</td>\n",
       "      <td>473</td>\n",
       "      <td>1</td>\n",
       "      <td>1</td>\n",
       "      <td>0</td>\n",
       "      <td>0</td>\n",
       "      <td>6513</td>\n",
       "      <td>2013</td>\n",
       "      <td>5</td>\n",
       "      <td>28</td>\n",
       "    </tr>\n",
       "    <tr>\n",
       "      <th>4</th>\n",
       "      <td>726</td>\n",
       "      <td>4</td>\n",
       "      <td>1068</td>\n",
       "      <td>1</td>\n",
       "      <td>1</td>\n",
       "      <td>0</td>\n",
       "      <td>0</td>\n",
       "      <td>10882</td>\n",
       "      <td>2013</td>\n",
       "      <td>10</td>\n",
       "      <td>10</td>\n",
       "    </tr>\n",
       "  </tbody>\n",
       "</table>\n",
       "</div>"
      ],
      "text/plain": [
       "   store_ID  day_of_week  nb_customers_on_day  open  promotion  state_holiday  \\\n",
       "0       366            4                  517     1          0              0   \n",
       "1       394            6                  694     1          0              0   \n",
       "2       807            4                  970     1          1              0   \n",
       "3       802            2                  473     1          1              0   \n",
       "4       726            4                 1068     1          1              0   \n",
       "\n",
       "   school_holiday  sales  year  month  day  \n",
       "0               0   4422  2013      4   18  \n",
       "1               0   8297  2015      4   11  \n",
       "2               0   9729  2013      8   29  \n",
       "3               0   6513  2013      5   28  \n",
       "4               0  10882  2013     10   10  "
      ]
     },
     "execution_count": 12,
     "metadata": {},
     "output_type": "execute_result"
    }
   ],
   "source": [
    "data.head()"
   ]
  },
  {
   "cell_type": "code",
   "execution_count": 13,
   "metadata": {},
   "outputs": [
    {
     "data": {
      "text/plain": [
       "store_ID               int64\n",
       "day_of_week            int64\n",
       "nb_customers_on_day    int64\n",
       "open                   int64\n",
       "promotion              int64\n",
       "state_holiday          int64\n",
       "school_holiday         int64\n",
       "sales                  int64\n",
       "year                   int64\n",
       "month                  int64\n",
       "day                    int64\n",
       "dtype: object"
      ]
     },
     "execution_count": 13,
     "metadata": {},
     "output_type": "execute_result"
    }
   ],
   "source": [
    "data.dtypes"
   ]
  },
  {
   "attachments": {},
   "cell_type": "markdown",
   "metadata": {},
   "source": [
    "# `Filter dataset`"
   ]
  },
  {
   "cell_type": "code",
   "execution_count": null,
   "metadata": {},
   "outputs": [],
   "source": [
    "data_open_days = data[data['open'] == 1].copy()\n",
    "\n",
    "data_open_days.drop('open', axis=1, inplace=True)\n",
    "\n",
    "data_open_days.shape"
   ]
  },
  {
   "cell_type": "code",
   "execution_count": null,
   "metadata": {},
   "outputs": [],
   "source": [
    "data_without_store_ID = data.drop('store_ID', axis=1)\n",
    "data_without_store_ID.shape"
   ]
  },
  {
   "cell_type": "code",
   "execution_count": null,
   "metadata": {},
   "outputs": [],
   "source": [
    "data_open_days_without_store_ID = data_open_days.drop('store_ID', axis=1)\n",
    "data_open_days_without_store_ID.shape"
   ]
  },
  {
   "attachments": {},
   "cell_type": "markdown",
   "metadata": {},
   "source": [
    "# `Check correlations`"
   ]
  },
  {
   "cell_type": "code",
   "execution_count": 14,
   "metadata": {},
   "outputs": [],
   "source": [
    "def display_heatmap(dataframe):\n",
    "    corr=dataframe.corr()\n",
    "\n",
    "    mask=np.triu(np.ones_like(corr, dtype=bool))     # generate a mask for the upper triangle\n",
    "\n",
    "    f, ax=plt.subplots(figsize=(11, 9))                 # set up the matplotlib figure\n",
    "\n",
    "    cmap=sns.diverging_palette(220, 10, as_cmap=True)   # generate a custom diverging colormap\n",
    "\n",
    "    sns.heatmap(corr, mask=mask, cmap=cmap,             # draw the heatmap with the mask and correct aspect ratio\n",
    "                vmax=.3, center=0, square=True,\n",
    "                linewidths=.5, cbar_kws={\"shrink\": .5})"
   ]
  },
  {
   "attachments": {},
   "cell_type": "markdown",
   "metadata": {},
   "source": [
    "## `Not filtered - without store_ID`"
   ]
  },
  {
   "cell_type": "code",
   "execution_count": null,
   "metadata": {},
   "outputs": [],
   "source": [
    "display_heatmap(data_without_store_ID)"
   ]
  },
  {
   "attachments": {},
   "cell_type": "markdown",
   "metadata": {},
   "source": [
    "## `Not filtered - with store_ID`"
   ]
  },
  {
   "cell_type": "code",
   "execution_count": null,
   "metadata": {},
   "outputs": [],
   "source": [
    "display_heatmap(data)"
   ]
  },
  {
   "attachments": {},
   "cell_type": "markdown",
   "metadata": {},
   "source": [
    "## `Filtered - without store_ID`"
   ]
  },
  {
   "cell_type": "code",
   "execution_count": null,
   "metadata": {},
   "outputs": [],
   "source": [
    "display_heatmap(data_open_days_without_store_ID)"
   ]
  },
  {
   "attachments": {},
   "cell_type": "markdown",
   "metadata": {},
   "source": [
    "## `Filtered - with store_ID`"
   ]
  },
  {
   "cell_type": "code",
   "execution_count": null,
   "metadata": {},
   "outputs": [],
   "source": [
    "display_heatmap(data_open_days)"
   ]
  },
  {
   "attachments": {},
   "cell_type": "markdown",
   "metadata": {},
   "source": [
    "# `Test algorithms`"
   ]
  },
  {
   "cell_type": "code",
   "execution_count": 15,
   "metadata": {},
   "outputs": [],
   "source": [
    "def compare_models(models, dataframe):\n",
    "    fitted_models = []\n",
    "\n",
    "    r2_list = []\n",
    "    mse_list = []\n",
    "    rmse_list = []\n",
    "    mae_list = []\n",
    "\n",
    "    for model in models:\n",
    "\n",
    "        print(f\"====== {model} ======\")\n",
    "\n",
    "        full_df = dataframe.sample(frac=1, random_state=10)\n",
    "\n",
    "        y = full_df['sales']\n",
    "        X = full_df.drop('sales', axis=1)\n",
    "        X_train, X_test, y_train, y_test = train_test_split(X, y, test_size=0.2, random_state=10)\n",
    "\n",
    "        # Scaling data = X_train\n",
    "        X_train_transformer = MinMaxScaler().fit(X_train)\n",
    "        X_train_normalized = X_train_transformer.transform(X_train)\n",
    "        X_train_normalized = pd.DataFrame(X_train_normalized)\n",
    "\n",
    "        # Scaling data = X_test\n",
    "        X_test_transformer = MinMaxScaler().fit(X_test)\n",
    "        X_test_normalized = X_test_transformer.transform(X_test)\n",
    "        X_test_normalized = pd.DataFrame(X_test_normalized)\n",
    "\n",
    "        model.fit(X_train_normalized, y_train)\n",
    "\n",
    "        fitted_models.append(model)\n",
    "\n",
    "        # Make predictions on the test data\n",
    "        y_pred = model.predict(X_test_normalized)\n",
    "\n",
    "        # R2 validation\n",
    "        r2 = r2_score(y_test, y_pred)\n",
    "        print(\"R2:\", r2)\n",
    "\n",
    "        # MSE validation\n",
    "        mse=mean_squared_error(y_test, y_pred)\n",
    "        print(\"MSE:\", mse)\n",
    "\n",
    "        # RMSE validation\n",
    "        rmse = np.sqrt(mse)\n",
    "        print(\"RMSE:\", rmse)\n",
    "\n",
    "        # MAE validation\n",
    "        mae=mean_absolute_error(y_test, y_pred)\n",
    "        print(\"MAE:\", mae)\n",
    "\n",
    "        r2_list.append(r2)\n",
    "        mse_list.append(mse)\n",
    "        rmse_list.append(rmse)\n",
    "        mae_list.append(mae)\n",
    "\n",
    "\n",
    "    summary = {\n",
    "        'Algorithm': model,\n",
    "        'R2': r2_list,\n",
    "        'MSE': mse_list,\n",
    "        'RMSE': rmse_list,\n",
    "        'MAE': mae_list\n",
    "    }\n",
    "    summary = pd.DataFrame(summary)\n",
    "    # summary.columns = models\n",
    "\n",
    "    return summary, fitted_models"
   ]
  },
  {
   "cell_type": "code",
   "execution_count": 16,
   "metadata": {},
   "outputs": [],
   "source": [
    "models_to_test = [\n",
    "    LinearRegression(n_jobs=-1),\n",
    "    Lasso(random_state=10),\n",
    "    Ridge(random_state=10),\n",
    "    ElasticNet(random_state=10),\n",
    "    XGBRegressor(),\n",
    "    LGBMRegressor(n_jobs=-1, random_state=10),\n",
    "    DecisionTreeRegressor()\n",
    "]\n",
    "\n",
    "models_to_test_slow = [\n",
    "    KNeighborsRegressor(n_jobs=-1),\n",
    "    MLPRegressor(random_state=10),\n",
    "    RandomForestRegressor(n_jobs=-1, random_state=10)\n",
    "]"
   ]
  },
  {
   "attachments": {},
   "cell_type": "markdown",
   "metadata": {},
   "source": [
    "## `Not filtered - without store_ID`"
   ]
  },
  {
   "cell_type": "code",
   "execution_count": null,
   "metadata": {},
   "outputs": [],
   "source": [
    "data_without_store_ID_summary, data_without_store_ID_models = compare_models(models=models_to_test, dataframe=data_without_store_ID)"
   ]
  },
  {
   "cell_type": "code",
   "execution_count": null,
   "metadata": {},
   "outputs": [],
   "source": [
    "# ====== LGBMRegressor(random_state=10) ======\n",
    "# R2: 0.8717880480454334\n",
    "# MSE: 1920020.1403067634\n",
    "# RMSE: 1385.6479135432505\n",
    "# MAE: 934.6317351470149"
   ]
  },
  {
   "cell_type": "code",
   "execution_count": null,
   "metadata": {},
   "outputs": [],
   "source": [
    "data_without_store_ID_slow_summary, data_without_store_ID_models_slow = compare_models(models=models_to_test_slow, dataframe=data_without_store_ID)"
   ]
  },
  {
   "cell_type": "code",
   "execution_count": null,
   "metadata": {},
   "outputs": [],
   "source": [
    "# ====== MLPRegressor(random_state=10) ======\n",
    "# R2: 0.8604318711437954\n",
    "# MSE: 2090082.977941105\n",
    "# RMSE: 1445.711927716274\n",
    "# MAE: 980.7829302460166"
   ]
  },
  {
   "attachments": {},
   "cell_type": "markdown",
   "metadata": {},
   "source": [
    "## `Not filtered - with store_ID`"
   ]
  },
  {
   "cell_type": "code",
   "execution_count": null,
   "metadata": {},
   "outputs": [],
   "source": [
    "data_with_store_ID_summary, data_with_store_ID_models = compare_models(models=models_to_test, dataframe=data)"
   ]
  },
  {
   "cell_type": "code",
   "execution_count": null,
   "metadata": {},
   "outputs": [],
   "source": [
    "# ====== XGBRegressor() ======\n",
    "# R2: 0.9494461028054196\n",
    "# MSE: 757062.8112657383\n",
    "# RMSE: 870.0935646617198\n",
    "# MAE: 628.8746932658818"
   ]
  },
  {
   "cell_type": "code",
   "execution_count": null,
   "metadata": {},
   "outputs": [],
   "source": [
    "data_with_store_ID_slow_summary, data_with_store_ID_models_slow = compare_models(models=models_to_test_slow, dataframe=data)"
   ]
  },
  {
   "cell_type": "code",
   "execution_count": null,
   "metadata": {},
   "outputs": [],
   "source": [
    "# ====== RandomForestRegressor(n_jobs=-1, random_state=10) ======\n",
    "# R2: 0.9228395853784788\n",
    "# MSE: 1155504.9888035383\n",
    "# RMSE: 1074.9441793895803\n",
    "# MAE: 724.3297227857188"
   ]
  },
  {
   "attachments": {},
   "cell_type": "markdown",
   "metadata": {},
   "source": [
    "## `Filtered - without store_ID`"
   ]
  },
  {
   "cell_type": "code",
   "execution_count": null,
   "metadata": {},
   "outputs": [],
   "source": [
    "data_open_days_without_store_ID_summary, data_open_days_without_store_ID_models = compare_models(models=models_to_test, dataframe=data_open_days_without_store_ID)"
   ]
  },
  {
   "cell_type": "code",
   "execution_count": null,
   "metadata": {},
   "outputs": [],
   "source": [
    "# ====== LinearRegression(n_jobs=-1) ======\n",
    "# R2: 0.7115516521122665\n",
    "# MSE: 2807809.682227139\n",
    "# RMSE: 1675.6520170450483\n",
    "# MAE: 1206.1741847849569"
   ]
  },
  {
   "cell_type": "code",
   "execution_count": null,
   "metadata": {},
   "outputs": [],
   "source": [
    "data_open_days_without_store_ID_slow_summary, data_open_days_without_store_ID_models_slow = compare_models(models=models_to_test_slow, dataframe=data_open_days_without_store_ID)"
   ]
  },
  {
   "cell_type": "code",
   "execution_count": null,
   "metadata": {},
   "outputs": [],
   "source": [
    "# ====== MLPRegressor(random_state=10) ======\n",
    "# R2: 0.7423804028651348\n",
    "# MSE: 2507716.9082911913\n",
    "# RMSE: 1583.5772504968588\n",
    "# MAE: 1168.3293276782179"
   ]
  },
  {
   "attachments": {},
   "cell_type": "markdown",
   "metadata": {},
   "source": [
    "## `Filtered - with store_ID`"
   ]
  },
  {
   "cell_type": "code",
   "execution_count": null,
   "metadata": {},
   "outputs": [],
   "source": [
    "data_open_days_with_store_ID_summary, data_open_days_with_store_ID_models = compare_models(models=models_to_test, dataframe=data_open_days)"
   ]
  },
  {
   "cell_type": "code",
   "execution_count": null,
   "metadata": {},
   "outputs": [],
   "source": [
    "# ====== XGBRegressor() ======\n",
    "# R2: 0.9151376668371063\n",
    "# MSE: 826065.6802371338\n",
    "# RMSE: 908.8815545697546\n",
    "# MAE: 689.5817966818616"
   ]
  },
  {
   "cell_type": "code",
   "execution_count": null,
   "metadata": {},
   "outputs": [],
   "source": [
    "data_open_days_with_store_ID_slow_summary, data_open_days_with_store_ID_models_slow = compare_models(models=models_to_test_slow, dataframe=data_open_days)"
   ]
  },
  {
   "attachments": {},
   "cell_type": "markdown",
   "metadata": {},
   "source": [
    "# `For now : Not filtered - with store_ID -> data_with_store_ID_models, XGBRegressor()`"
   ]
  },
  {
   "attachments": {},
   "cell_type": "markdown",
   "metadata": {},
   "source": [
    "# `Try find best parameters`"
   ]
  },
  {
   "cell_type": "code",
   "execution_count": 17,
   "metadata": {},
   "outputs": [],
   "source": [
    "def find_best_parameters(model, param_grid, nb_cross_validations):\n",
    "    grid_search_decision_tree_classifier = GridSearchCV(estimator = model, param_grid = param_grid, cv = nb_cross_validations, n_jobs=-1)\n",
    "\n",
    "    full_df = data.sample(frac=1, random_state=10)\n",
    "\n",
    "    y = full_df['sales']\n",
    "    X = full_df.drop('sales', axis=1)\n",
    "    X_train, X_test, y_train, y_test = train_test_split(X, y, test_size=0.2, random_state=10)\n",
    "\n",
    "    # Scaling data = X_train\n",
    "    X_train_transformer = MinMaxScaler().fit(X_train)\n",
    "    X_train_normalized = X_train_transformer.transform(X_train)\n",
    "    X_train_normalized = pd.DataFrame(X_train_normalized)\n",
    "\n",
    "    grid_search_decision_tree_classifier.fit(X_train_normalized, y_train)\n",
    "\n",
    "    print(f\"Best parameters: {grid_search_decision_tree_classifier.best_params_}\")\n",
    "    print(f\"Best score: {grid_search_decision_tree_classifier.best_score_}\")\n",
    "\n",
    "    return grid_search_decision_tree_classifier"
   ]
  },
  {
   "cell_type": "code",
   "execution_count": null,
   "metadata": {},
   "outputs": [],
   "source": [
    "grid = {\n",
    "    'booster': ['gbtree', 'gblinear', 'dart', 'gbtree', 'dart'],\n",
    "    'validate_parameters': [True, False]\n",
    "}"
   ]
  },
  {
   "cell_type": "code",
   "execution_count": null,
   "metadata": {},
   "outputs": [],
   "source": [
    "best_parameters_XGBRegressor_5_cv = find_best_parameters(model=XGBRegressor(), param_grid=grid, nb_cross_validations=5)"
   ]
  },
  {
   "cell_type": "code",
   "execution_count": null,
   "metadata": {},
   "outputs": [],
   "source": [
    "best_parameters_XGBRegressor_10_cv = find_best_parameters(model=XGBRegressor(), param_grid=grid, nb_cross_validations=10)"
   ]
  },
  {
   "attachments": {},
   "cell_type": "markdown",
   "metadata": {},
   "source": [
    "# `Best parameters for XGBRegressor seem to be : 'booster': 'gbtree', 'validate_parameters': True`"
   ]
  },
  {
   "cell_type": "code",
   "execution_count": null,
   "metadata": {},
   "outputs": [],
   "source": [
    "XGBRegressor_with_best_parameters_summary, XGBRegressor_with_best_parameters_models = compare_models(models=[XGBRegressor(booster='gbtree', validate_parameters=True, n_jobs=-1)], dataframe=data)"
   ]
  },
  {
   "cell_type": "code",
   "execution_count": null,
   "metadata": {},
   "outputs": [],
   "source": [
    "# ====== XGBRegressor(base_score=None, booster='gbtree', colsample_bylevel=None,\n",
    "#              colsample_bynode=None, colsample_bytree=None,\n",
    "#              enable_categorical=False, gamma=None, gpu_id=None,\n",
    "#              importance_type=None, interaction_constraints=None,\n",
    "#              learning_rate=None, max_delta_step=None, max_depth=None,\n",
    "#              min_child_weight=None, missing=nan, monotone_constraints=None,\n",
    "#              n_estimators=100, n_jobs=-1, num_parallel_tree=None,\n",
    "#              predictor=None, random_state=None, reg_alpha=None, reg_lambda=None,\n",
    "#              scale_pos_weight=None, subsample=None, tree_method=None,\n",
    "#              validate_parameters=True, verbosity=None) ======\n",
    "# /opt/anaconda3/lib/python3.9/site-packages/xgboost/data.py:250: FutureWarning: pandas.Int64Index is deprecated and will be removed from pandas in a future version. Use pandas.Index with the appropriate dtype instead.\n",
    "#   elif isinstance(data.columns, (pd.Int64Index, pd.RangeIndex)):\n",
    "\n",
    "# R2: 0.9494461028054196\n",
    "# MSE: 757062.8112657383\n",
    "# RMSE: 870.0935646617198\n",
    "# MAE: 628.8746932658818"
   ]
  },
  {
   "cell_type": "code",
   "execution_count": null,
   "metadata": {},
   "outputs": [],
   "source": [
    "XGBRegressor_default_parameters_summary, XGBRegressor_default_parameters_models = compare_models(models=[XGBRegressor(n_jobs=-1)], dataframe=data)"
   ]
  },
  {
   "cell_type": "code",
   "execution_count": null,
   "metadata": {},
   "outputs": [],
   "source": [
    "# ====== XGBRegressor(base_score=None, booster=None, colsample_bylevel=None,\n",
    "#              colsample_bynode=None, colsample_bytree=None,\n",
    "#              enable_categorical=False, gamma=None, gpu_id=None,\n",
    "#              importance_type=None, interaction_constraints=None,\n",
    "#              learning_rate=None, max_delta_step=None, max_depth=None,\n",
    "#              min_child_weight=None, missing=nan, monotone_constraints=None,\n",
    "#              n_estimators=100, n_jobs=-1, num_parallel_tree=None,\n",
    "#              predictor=None, random_state=None, reg_alpha=None, reg_lambda=None,\n",
    "#              scale_pos_weight=None, subsample=None, tree_method=None,\n",
    "#              validate_parameters=None, verbosity=None) ======\n",
    "\n",
    "# R2: 0.9494461028054196\n",
    "# MSE: 757062.8112657383\n",
    "# RMSE: 870.0935646617198\n",
    "# MAE: 628.8746932658818"
   ]
  },
  {
   "attachments": {},
   "cell_type": "markdown",
   "metadata": {},
   "source": [
    "# `Save XGBRegressor_default_parameters_models`"
   ]
  },
  {
   "cell_type": "code",
   "execution_count": null,
   "metadata": {},
   "outputs": [],
   "source": [
    "with open(f'models/XGBRegressor_sales_model.pkl', 'wb') as f:\n",
    "    pickle.dump(XGBRegressor_default_parameters_models[0], f)"
   ]
  },
  {
   "attachments": {},
   "cell_type": "markdown",
   "metadata": {},
   "source": [
    "# `Load XGBRegressor_default_parameters_models`"
   ]
  },
  {
   "cell_type": "code",
   "execution_count": null,
   "metadata": {},
   "outputs": [],
   "source": [
    "with open(f'models/XGBRegressor_sales_model.pkl', \"rb\") as f:\n",
    "    sales_model = pickle.load(f)"
   ]
  },
  {
   "cell_type": "code",
   "execution_count": null,
   "metadata": {},
   "outputs": [],
   "source": [
    "data['day_of_week'].unique()"
   ]
  },
  {
   "attachments": {},
   "cell_type": "markdown",
   "metadata": {},
   "source": [
    "# `Try create models per unique values of specific feature`"
   ]
  },
  {
   "cell_type": "code",
   "execution_count": 85,
   "metadata": {},
   "outputs": [],
   "source": [
    "def create_models_per_feature(feature_name):\n",
    "    unique_values = data[feature_name].unique()\n",
    "\n",
    "    # Split dataframe into dataframes per day_of_week\n",
    "    filtered_df_list = [\n",
    "        {\n",
    "            f'{feature_name}': value, \n",
    "            'dataframe': data[data[feature_name] == value].drop(feature_name, axis=1)\n",
    "        }\n",
    "                                                    for value in unique_values\n",
    "    ]\n",
    "\n",
    "    models_per_feature_results = [\n",
    "        {\n",
    "            f'{feature_name}': obj[feature_name],\n",
    "            'summary_and_fitted_model': compare_models(models=[XGBRegressor(n_jobs=-1)], dataframe=obj['dataframe'])\n",
    "        }\n",
    "        for obj in filtered_df_list\n",
    "    ]\n",
    "\n",
    "    # Create results dataframe\n",
    "    models_per_feature_summaries = [result['summary_and_fitted_model'][0].drop('Algorithm', axis=1).assign(feature_value = result[feature_name]) for result in models_per_feature_results]\n",
    "    models_per_feature_comparison = pd.concat(models_per_feature_summaries, axis=0).sort_values(by='RMSE').reset_index().drop('index', axis=1)\n",
    "    \n",
    "    clear_output()\n",
    "    display(models_per_feature_comparison)\n",
    "\n",
    "    models = [\n",
    "        {\n",
    "            'feature_value': result[feature_name],\n",
    "            'model': result['summary_and_fitted_model'][1]\n",
    "        }\n",
    "            for result in models_per_feature_results\n",
    "    ]\n",
    "\n",
    "    return models"
   ]
  },
  {
   "attachments": {},
   "cell_type": "markdown",
   "metadata": {},
   "source": [
    "## `day_of_week`"
   ]
  },
  {
   "cell_type": "code",
   "execution_count": 75,
   "metadata": {},
   "outputs": [
    {
     "data": {
      "text/html": [
       "<div>\n",
       "<style scoped>\n",
       "    .dataframe tbody tr th:only-of-type {\n",
       "        vertical-align: middle;\n",
       "    }\n",
       "\n",
       "    .dataframe tbody tr th {\n",
       "        vertical-align: top;\n",
       "    }\n",
       "\n",
       "    .dataframe thead th {\n",
       "        text-align: right;\n",
       "    }\n",
       "</style>\n",
       "<table border=\"1\" class=\"dataframe\">\n",
       "  <thead>\n",
       "    <tr style=\"text-align: right;\">\n",
       "      <th></th>\n",
       "      <th>R2</th>\n",
       "      <th>MSE</th>\n",
       "      <th>RMSE</th>\n",
       "      <th>MAE</th>\n",
       "      <th>day_of_week</th>\n",
       "    </tr>\n",
       "  </thead>\n",
       "  <tbody>\n",
       "    <tr>\n",
       "      <th>0</th>\n",
       "      <td>0.995456</td>\n",
       "      <td>12768.023144</td>\n",
       "      <td>112.995678</td>\n",
       "      <td>12.142055</td>\n",
       "      <td>7</td>\n",
       "    </tr>\n",
       "    <tr>\n",
       "      <th>1</th>\n",
       "      <td>0.950169</td>\n",
       "      <td>519540.221714</td>\n",
       "      <td>720.791386</td>\n",
       "      <td>536.475006</td>\n",
       "      <td>4</td>\n",
       "    </tr>\n",
       "    <tr>\n",
       "      <th>2</th>\n",
       "      <td>0.928833</td>\n",
       "      <td>605265.683332</td>\n",
       "      <td>777.988228</td>\n",
       "      <td>578.105801</td>\n",
       "      <td>3</td>\n",
       "    </tr>\n",
       "    <tr>\n",
       "      <th>3</th>\n",
       "      <td>0.926281</td>\n",
       "      <td>718277.552113</td>\n",
       "      <td>847.512568</td>\n",
       "      <td>643.580930</td>\n",
       "      <td>5</td>\n",
       "    </tr>\n",
       "    <tr>\n",
       "      <th>4</th>\n",
       "      <td>0.911241</td>\n",
       "      <td>746686.391066</td>\n",
       "      <td>864.110173</td>\n",
       "      <td>679.419683</td>\n",
       "      <td>6</td>\n",
       "    </tr>\n",
       "    <tr>\n",
       "      <th>5</th>\n",
       "      <td>0.911696</td>\n",
       "      <td>840643.883542</td>\n",
       "      <td>916.866339</td>\n",
       "      <td>698.668529</td>\n",
       "      <td>2</td>\n",
       "    </tr>\n",
       "    <tr>\n",
       "      <th>6</th>\n",
       "      <td>0.938929</td>\n",
       "      <td>960774.905541</td>\n",
       "      <td>980.191260</td>\n",
       "      <td>698.465285</td>\n",
       "      <td>1</td>\n",
       "    </tr>\n",
       "  </tbody>\n",
       "</table>\n",
       "</div>"
      ],
      "text/plain": [
       "         R2            MSE        RMSE         MAE  day_of_week\n",
       "0  0.995456   12768.023144  112.995678   12.142055            7\n",
       "1  0.950169  519540.221714  720.791386  536.475006            4\n",
       "2  0.928833  605265.683332  777.988228  578.105801            3\n",
       "3  0.926281  718277.552113  847.512568  643.580930            5\n",
       "4  0.911241  746686.391066  864.110173  679.419683            6\n",
       "5  0.911696  840643.883542  916.866339  698.668529            2\n",
       "6  0.938929  960774.905541  980.191260  698.465285            1"
      ]
     },
     "metadata": {},
     "output_type": "display_data"
    }
   ],
   "source": [
    "day_of_week_models = create_models_per_feature('day_of_week')"
   ]
  },
  {
   "attachments": {},
   "cell_type": "markdown",
   "metadata": {},
   "source": [
    "## `day`"
   ]
  },
  {
   "cell_type": "code",
   "execution_count": 40,
   "metadata": {},
   "outputs": [
    {
     "data": {
      "text/html": [
       "<div>\n",
       "<style scoped>\n",
       "    .dataframe tbody tr th:only-of-type {\n",
       "        vertical-align: middle;\n",
       "    }\n",
       "\n",
       "    .dataframe tbody tr th {\n",
       "        vertical-align: top;\n",
       "    }\n",
       "\n",
       "    .dataframe thead th {\n",
       "        text-align: right;\n",
       "    }\n",
       "</style>\n",
       "<table border=\"1\" class=\"dataframe\">\n",
       "  <thead>\n",
       "    <tr style=\"text-align: right;\">\n",
       "      <th></th>\n",
       "      <th>R2</th>\n",
       "      <th>MSE</th>\n",
       "      <th>RMSE</th>\n",
       "      <th>MAE</th>\n",
       "      <th>day_of_week</th>\n",
       "    </tr>\n",
       "  </thead>\n",
       "  <tbody>\n",
       "    <tr>\n",
       "      <th>0</th>\n",
       "      <td>0.950020</td>\n",
       "      <td>5.766224e+05</td>\n",
       "      <td>759.356576</td>\n",
       "      <td>528.096424</td>\n",
       "      <td>12</td>\n",
       "    </tr>\n",
       "    <tr>\n",
       "      <th>0</th>\n",
       "      <td>0.942226</td>\n",
       "      <td>6.983722e+05</td>\n",
       "      <td>835.686636</td>\n",
       "      <td>585.428555</td>\n",
       "      <td>13</td>\n",
       "    </tr>\n",
       "    <tr>\n",
       "      <th>0</th>\n",
       "      <td>0.932194</td>\n",
       "      <td>7.228334e+05</td>\n",
       "      <td>850.196104</td>\n",
       "      <td>574.952052</td>\n",
       "      <td>10</td>\n",
       "    </tr>\n",
       "    <tr>\n",
       "      <th>0</th>\n",
       "      <td>0.942128</td>\n",
       "      <td>7.596709e+05</td>\n",
       "      <td>871.591041</td>\n",
       "      <td>589.884215</td>\n",
       "      <td>21</td>\n",
       "    </tr>\n",
       "    <tr>\n",
       "      <th>0</th>\n",
       "      <td>0.936128</td>\n",
       "      <td>8.337466e+05</td>\n",
       "      <td>913.097276</td>\n",
       "      <td>626.485654</td>\n",
       "      <td>8</td>\n",
       "    </tr>\n",
       "    <tr>\n",
       "      <th>0</th>\n",
       "      <td>0.941570</td>\n",
       "      <td>9.010491e+05</td>\n",
       "      <td>949.236058</td>\n",
       "      <td>670.623839</td>\n",
       "      <td>17</td>\n",
       "    </tr>\n",
       "    <tr>\n",
       "      <th>0</th>\n",
       "      <td>0.942395</td>\n",
       "      <td>9.356684e+05</td>\n",
       "      <td>967.299532</td>\n",
       "      <td>658.391503</td>\n",
       "      <td>5</td>\n",
       "    </tr>\n",
       "    <tr>\n",
       "      <th>0</th>\n",
       "      <td>0.952223</td>\n",
       "      <td>9.526447e+05</td>\n",
       "      <td>976.035178</td>\n",
       "      <td>637.916430</td>\n",
       "      <td>3</td>\n",
       "    </tr>\n",
       "    <tr>\n",
       "      <th>0</th>\n",
       "      <td>0.917964</td>\n",
       "      <td>1.042235e+06</td>\n",
       "      <td>1020.898971</td>\n",
       "      <td>722.378205</td>\n",
       "      <td>23</td>\n",
       "    </tr>\n",
       "    <tr>\n",
       "      <th>0</th>\n",
       "      <td>0.922713</td>\n",
       "      <td>1.055931e+06</td>\n",
       "      <td>1027.585025</td>\n",
       "      <td>752.794479</td>\n",
       "      <td>28</td>\n",
       "    </tr>\n",
       "    <tr>\n",
       "      <th>0</th>\n",
       "      <td>0.941807</td>\n",
       "      <td>1.104812e+06</td>\n",
       "      <td>1051.100598</td>\n",
       "      <td>743.920394</td>\n",
       "      <td>30</td>\n",
       "    </tr>\n",
       "    <tr>\n",
       "      <th>0</th>\n",
       "      <td>0.920361</td>\n",
       "      <td>1.217007e+06</td>\n",
       "      <td>1103.180442</td>\n",
       "      <td>782.320977</td>\n",
       "      <td>18</td>\n",
       "    </tr>\n",
       "    <tr>\n",
       "      <th>0</th>\n",
       "      <td>0.918157</td>\n",
       "      <td>1.334847e+06</td>\n",
       "      <td>1155.355793</td>\n",
       "      <td>795.487081</td>\n",
       "      <td>15</td>\n",
       "    </tr>\n",
       "    <tr>\n",
       "      <th>0</th>\n",
       "      <td>0.916588</td>\n",
       "      <td>1.464736e+06</td>\n",
       "      <td>1210.262773</td>\n",
       "      <td>836.761732</td>\n",
       "      <td>16</td>\n",
       "    </tr>\n",
       "    <tr>\n",
       "      <th>0</th>\n",
       "      <td>0.881474</td>\n",
       "      <td>1.537291e+06</td>\n",
       "      <td>1239.875533</td>\n",
       "      <td>917.351033</td>\n",
       "      <td>22</td>\n",
       "    </tr>\n",
       "    <tr>\n",
       "      <th>0</th>\n",
       "      <td>0.912517</td>\n",
       "      <td>1.544798e+06</td>\n",
       "      <td>1242.898872</td>\n",
       "      <td>906.311424</td>\n",
       "      <td>2</td>\n",
       "    </tr>\n",
       "    <tr>\n",
       "      <th>0</th>\n",
       "      <td>0.863626</td>\n",
       "      <td>1.610768e+06</td>\n",
       "      <td>1269.160507</td>\n",
       "      <td>959.629493</td>\n",
       "      <td>27</td>\n",
       "    </tr>\n",
       "    <tr>\n",
       "      <th>0</th>\n",
       "      <td>0.808395</td>\n",
       "      <td>1.740728e+06</td>\n",
       "      <td>1319.366675</td>\n",
       "      <td>981.393291</td>\n",
       "      <td>11</td>\n",
       "    </tr>\n",
       "    <tr>\n",
       "      <th>0</th>\n",
       "      <td>0.870070</td>\n",
       "      <td>1.789443e+06</td>\n",
       "      <td>1337.700457</td>\n",
       "      <td>992.269531</td>\n",
       "      <td>20</td>\n",
       "    </tr>\n",
       "    <tr>\n",
       "      <th>0</th>\n",
       "      <td>0.894337</td>\n",
       "      <td>1.858547e+06</td>\n",
       "      <td>1363.285342</td>\n",
       "      <td>965.088751</td>\n",
       "      <td>29</td>\n",
       "    </tr>\n",
       "    <tr>\n",
       "      <th>0</th>\n",
       "      <td>0.843730</td>\n",
       "      <td>1.871682e+06</td>\n",
       "      <td>1368.094228</td>\n",
       "      <td>974.207614</td>\n",
       "      <td>26</td>\n",
       "    </tr>\n",
       "    <tr>\n",
       "      <th>0</th>\n",
       "      <td>0.849462</td>\n",
       "      <td>1.943043e+06</td>\n",
       "      <td>1393.930842</td>\n",
       "      <td>1003.176757</td>\n",
       "      <td>14</td>\n",
       "    </tr>\n",
       "    <tr>\n",
       "      <th>0</th>\n",
       "      <td>0.862312</td>\n",
       "      <td>2.023359e+06</td>\n",
       "      <td>1422.448352</td>\n",
       "      <td>1069.612458</td>\n",
       "      <td>6</td>\n",
       "    </tr>\n",
       "    <tr>\n",
       "      <th>0</th>\n",
       "      <td>0.776688</td>\n",
       "      <td>2.098432e+06</td>\n",
       "      <td>1448.596529</td>\n",
       "      <td>1090.326863</td>\n",
       "      <td>24</td>\n",
       "    </tr>\n",
       "    <tr>\n",
       "      <th>0</th>\n",
       "      <td>0.867421</td>\n",
       "      <td>2.106876e+06</td>\n",
       "      <td>1451.508150</td>\n",
       "      <td>1116.432514</td>\n",
       "      <td>4</td>\n",
       "    </tr>\n",
       "    <tr>\n",
       "      <th>0</th>\n",
       "      <td>0.787596</td>\n",
       "      <td>3.180250e+06</td>\n",
       "      <td>1783.325558</td>\n",
       "      <td>1364.308464</td>\n",
       "      <td>19</td>\n",
       "    </tr>\n",
       "    <tr>\n",
       "      <th>0</th>\n",
       "      <td>0.677636</td>\n",
       "      <td>3.719248e+06</td>\n",
       "      <td>1928.535135</td>\n",
       "      <td>1434.395532</td>\n",
       "      <td>25</td>\n",
       "    </tr>\n",
       "    <tr>\n",
       "      <th>0</th>\n",
       "      <td>0.810270</td>\n",
       "      <td>4.260342e+06</td>\n",
       "      <td>2064.059667</td>\n",
       "      <td>1320.972334</td>\n",
       "      <td>1</td>\n",
       "    </tr>\n",
       "    <tr>\n",
       "      <th>0</th>\n",
       "      <td>0.669956</td>\n",
       "      <td>4.645921e+06</td>\n",
       "      <td>2155.439756</td>\n",
       "      <td>1690.271544</td>\n",
       "      <td>7</td>\n",
       "    </tr>\n",
       "    <tr>\n",
       "      <th>0</th>\n",
       "      <td>0.686135</td>\n",
       "      <td>5.985325e+06</td>\n",
       "      <td>2446.492363</td>\n",
       "      <td>1839.291660</td>\n",
       "      <td>31</td>\n",
       "    </tr>\n",
       "    <tr>\n",
       "      <th>0</th>\n",
       "      <td>0.458876</td>\n",
       "      <td>6.697510e+06</td>\n",
       "      <td>2587.954740</td>\n",
       "      <td>2016.786573</td>\n",
       "      <td>9</td>\n",
       "    </tr>\n",
       "  </tbody>\n",
       "</table>\n",
       "</div>"
      ],
      "text/plain": [
       "         R2           MSE         RMSE          MAE  day_of_week\n",
       "0  0.950020  5.766224e+05   759.356576   528.096424           12\n",
       "0  0.942226  6.983722e+05   835.686636   585.428555           13\n",
       "0  0.932194  7.228334e+05   850.196104   574.952052           10\n",
       "0  0.942128  7.596709e+05   871.591041   589.884215           21\n",
       "0  0.936128  8.337466e+05   913.097276   626.485654            8\n",
       "0  0.941570  9.010491e+05   949.236058   670.623839           17\n",
       "0  0.942395  9.356684e+05   967.299532   658.391503            5\n",
       "0  0.952223  9.526447e+05   976.035178   637.916430            3\n",
       "0  0.917964  1.042235e+06  1020.898971   722.378205           23\n",
       "0  0.922713  1.055931e+06  1027.585025   752.794479           28\n",
       "0  0.941807  1.104812e+06  1051.100598   743.920394           30\n",
       "0  0.920361  1.217007e+06  1103.180442   782.320977           18\n",
       "0  0.918157  1.334847e+06  1155.355793   795.487081           15\n",
       "0  0.916588  1.464736e+06  1210.262773   836.761732           16\n",
       "0  0.881474  1.537291e+06  1239.875533   917.351033           22\n",
       "0  0.912517  1.544798e+06  1242.898872   906.311424            2\n",
       "0  0.863626  1.610768e+06  1269.160507   959.629493           27\n",
       "0  0.808395  1.740728e+06  1319.366675   981.393291           11\n",
       "0  0.870070  1.789443e+06  1337.700457   992.269531           20\n",
       "0  0.894337  1.858547e+06  1363.285342   965.088751           29\n",
       "0  0.843730  1.871682e+06  1368.094228   974.207614           26\n",
       "0  0.849462  1.943043e+06  1393.930842  1003.176757           14\n",
       "0  0.862312  2.023359e+06  1422.448352  1069.612458            6\n",
       "0  0.776688  2.098432e+06  1448.596529  1090.326863           24\n",
       "0  0.867421  2.106876e+06  1451.508150  1116.432514            4\n",
       "0  0.787596  3.180250e+06  1783.325558  1364.308464           19\n",
       "0  0.677636  3.719248e+06  1928.535135  1434.395532           25\n",
       "0  0.810270  4.260342e+06  2064.059667  1320.972334            1\n",
       "0  0.669956  4.645921e+06  2155.439756  1690.271544            7\n",
       "0  0.686135  5.985325e+06  2446.492363  1839.291660           31\n",
       "0  0.458876  6.697510e+06  2587.954740  2016.786573            9"
      ]
     },
     "metadata": {},
     "output_type": "display_data"
    }
   ],
   "source": [
    "create_models_per_feature('day')"
   ]
  },
  {
   "attachments": {},
   "cell_type": "markdown",
   "metadata": {},
   "source": [
    "## `month`"
   ]
  },
  {
   "cell_type": "code",
   "execution_count": 42,
   "metadata": {},
   "outputs": [
    {
     "data": {
      "text/html": [
       "<div>\n",
       "<style scoped>\n",
       "    .dataframe tbody tr th:only-of-type {\n",
       "        vertical-align: middle;\n",
       "    }\n",
       "\n",
       "    .dataframe tbody tr th {\n",
       "        vertical-align: top;\n",
       "    }\n",
       "\n",
       "    .dataframe thead th {\n",
       "        text-align: right;\n",
       "    }\n",
       "</style>\n",
       "<table border=\"1\" class=\"dataframe\">\n",
       "  <thead>\n",
       "    <tr style=\"text-align: right;\">\n",
       "      <th></th>\n",
       "      <th>R2</th>\n",
       "      <th>MSE</th>\n",
       "      <th>RMSE</th>\n",
       "      <th>MAE</th>\n",
       "      <th>day_of_week</th>\n",
       "    </tr>\n",
       "  </thead>\n",
       "  <tbody>\n",
       "    <tr>\n",
       "      <th>0</th>\n",
       "      <td>0.960271</td>\n",
       "      <td>5.152220e+05</td>\n",
       "      <td>717.789660</td>\n",
       "      <td>504.383295</td>\n",
       "      <td>1</td>\n",
       "    </tr>\n",
       "    <tr>\n",
       "      <th>0</th>\n",
       "      <td>0.958380</td>\n",
       "      <td>5.201129e+05</td>\n",
       "      <td>721.188526</td>\n",
       "      <td>511.365049</td>\n",
       "      <td>2</td>\n",
       "    </tr>\n",
       "    <tr>\n",
       "      <th>0</th>\n",
       "      <td>0.963164</td>\n",
       "      <td>5.725816e+05</td>\n",
       "      <td>756.691221</td>\n",
       "      <td>529.751864</td>\n",
       "      <td>4</td>\n",
       "    </tr>\n",
       "    <tr>\n",
       "      <th>0</th>\n",
       "      <td>0.953197</td>\n",
       "      <td>6.138377e+05</td>\n",
       "      <td>783.477956</td>\n",
       "      <td>565.279606</td>\n",
       "      <td>7</td>\n",
       "    </tr>\n",
       "    <tr>\n",
       "      <th>0</th>\n",
       "      <td>0.955648</td>\n",
       "      <td>6.654346e+05</td>\n",
       "      <td>815.741770</td>\n",
       "      <td>591.837144</td>\n",
       "      <td>11</td>\n",
       "    </tr>\n",
       "    <tr>\n",
       "      <th>0</th>\n",
       "      <td>0.945419</td>\n",
       "      <td>6.908778e+05</td>\n",
       "      <td>831.190568</td>\n",
       "      <td>567.340243</td>\n",
       "      <td>8</td>\n",
       "    </tr>\n",
       "    <tr>\n",
       "      <th>0</th>\n",
       "      <td>0.951385</td>\n",
       "      <td>7.466667e+05</td>\n",
       "      <td>864.098765</td>\n",
       "      <td>601.220947</td>\n",
       "      <td>3</td>\n",
       "    </tr>\n",
       "    <tr>\n",
       "      <th>0</th>\n",
       "      <td>0.944367</td>\n",
       "      <td>8.745990e+05</td>\n",
       "      <td>935.199986</td>\n",
       "      <td>630.350703</td>\n",
       "      <td>6</td>\n",
       "    </tr>\n",
       "    <tr>\n",
       "      <th>0</th>\n",
       "      <td>0.964603</td>\n",
       "      <td>9.021269e+05</td>\n",
       "      <td>949.803627</td>\n",
       "      <td>659.746905</td>\n",
       "      <td>12</td>\n",
       "    </tr>\n",
       "    <tr>\n",
       "      <th>0</th>\n",
       "      <td>0.926495</td>\n",
       "      <td>9.148344e+05</td>\n",
       "      <td>956.469776</td>\n",
       "      <td>701.318233</td>\n",
       "      <td>10</td>\n",
       "    </tr>\n",
       "    <tr>\n",
       "      <th>0</th>\n",
       "      <td>0.926328</td>\n",
       "      <td>1.182775e+06</td>\n",
       "      <td>1087.554790</td>\n",
       "      <td>784.013592</td>\n",
       "      <td>5</td>\n",
       "    </tr>\n",
       "    <tr>\n",
       "      <th>0</th>\n",
       "      <td>0.684526</td>\n",
       "      <td>3.919032e+06</td>\n",
       "      <td>1979.654450</td>\n",
       "      <td>1589.908226</td>\n",
       "      <td>9</td>\n",
       "    </tr>\n",
       "  </tbody>\n",
       "</table>\n",
       "</div>"
      ],
      "text/plain": [
       "         R2           MSE         RMSE          MAE  day_of_week\n",
       "0  0.960271  5.152220e+05   717.789660   504.383295            1\n",
       "0  0.958380  5.201129e+05   721.188526   511.365049            2\n",
       "0  0.963164  5.725816e+05   756.691221   529.751864            4\n",
       "0  0.953197  6.138377e+05   783.477956   565.279606            7\n",
       "0  0.955648  6.654346e+05   815.741770   591.837144           11\n",
       "0  0.945419  6.908778e+05   831.190568   567.340243            8\n",
       "0  0.951385  7.466667e+05   864.098765   601.220947            3\n",
       "0  0.944367  8.745990e+05   935.199986   630.350703            6\n",
       "0  0.964603  9.021269e+05   949.803627   659.746905           12\n",
       "0  0.926495  9.148344e+05   956.469776   701.318233           10\n",
       "0  0.926328  1.182775e+06  1087.554790   784.013592            5\n",
       "0  0.684526  3.919032e+06  1979.654450  1589.908226            9"
      ]
     },
     "metadata": {},
     "output_type": "display_data"
    }
   ],
   "source": [
    "create_models_per_feature('month')"
   ]
  },
  {
   "attachments": {},
   "cell_type": "markdown",
   "metadata": {},
   "source": [
    "## `year`"
   ]
  },
  {
   "cell_type": "code",
   "execution_count": 65,
   "metadata": {},
   "outputs": [
    {
     "data": {
      "text/html": [
       "<div>\n",
       "<style scoped>\n",
       "    .dataframe tbody tr th:only-of-type {\n",
       "        vertical-align: middle;\n",
       "    }\n",
       "\n",
       "    .dataframe tbody tr th {\n",
       "        vertical-align: top;\n",
       "    }\n",
       "\n",
       "    .dataframe thead th {\n",
       "        text-align: right;\n",
       "    }\n",
       "</style>\n",
       "<table border=\"1\" class=\"dataframe\">\n",
       "  <thead>\n",
       "    <tr style=\"text-align: right;\">\n",
       "      <th></th>\n",
       "      <th>R2</th>\n",
       "      <th>MSE</th>\n",
       "      <th>RMSE</th>\n",
       "      <th>MAE</th>\n",
       "      <th>day_of_week</th>\n",
       "    </tr>\n",
       "  </thead>\n",
       "  <tbody>\n",
       "    <tr>\n",
       "      <th>0</th>\n",
       "      <td>0.962841</td>\n",
       "      <td>544478.379643</td>\n",
       "      <td>737.887783</td>\n",
       "      <td>517.452278</td>\n",
       "      <td>2013</td>\n",
       "    </tr>\n",
       "    <tr>\n",
       "      <th>0</th>\n",
       "      <td>0.955524</td>\n",
       "      <td>655461.912230</td>\n",
       "      <td>809.606023</td>\n",
       "      <td>585.003003</td>\n",
       "      <td>2015</td>\n",
       "    </tr>\n",
       "    <tr>\n",
       "      <th>0</th>\n",
       "      <td>0.953916</td>\n",
       "      <td>700198.983172</td>\n",
       "      <td>836.778933</td>\n",
       "      <td>602.549676</td>\n",
       "      <td>2014</td>\n",
       "    </tr>\n",
       "  </tbody>\n",
       "</table>\n",
       "</div>"
      ],
      "text/plain": [
       "         R2            MSE        RMSE         MAE  day_of_week\n",
       "0  0.962841  544478.379643  737.887783  517.452278         2013\n",
       "0  0.955524  655461.912230  809.606023  585.003003         2015\n",
       "0  0.953916  700198.983172  836.778933  602.549676         2014"
      ]
     },
     "metadata": {},
     "output_type": "display_data"
    },
    {
     "data": {
      "text/plain": [
       "[{'feature_value': 2013,\n",
       "  'model': [XGBRegressor(base_score=0.5, booster='gbtree', colsample_bylevel=1,\n",
       "                colsample_bynode=1, colsample_bytree=1, enable_categorical=False,\n",
       "                gamma=0, gpu_id=-1, importance_type=None,\n",
       "                interaction_constraints='', learning_rate=0.300000012,\n",
       "                max_delta_step=0, max_depth=6, min_child_weight=1, missing=nan,\n",
       "                monotone_constraints='()', n_estimators=100, n_jobs=-1,\n",
       "                num_parallel_tree=1, predictor='auto', random_state=0, reg_alpha=0,\n",
       "                reg_lambda=1, scale_pos_weight=1, subsample=1, tree_method='exact',\n",
       "                validate_parameters=1, verbosity=None)]},\n",
       " {'feature_value': 2015,\n",
       "  'model': [XGBRegressor(base_score=0.5, booster='gbtree', colsample_bylevel=1,\n",
       "                colsample_bynode=1, colsample_bytree=1, enable_categorical=False,\n",
       "                gamma=0, gpu_id=-1, importance_type=None,\n",
       "                interaction_constraints='', learning_rate=0.300000012,\n",
       "                max_delta_step=0, max_depth=6, min_child_weight=1, missing=nan,\n",
       "                monotone_constraints='()', n_estimators=100, n_jobs=-1,\n",
       "                num_parallel_tree=1, predictor='auto', random_state=0, reg_alpha=0,\n",
       "                reg_lambda=1, scale_pos_weight=1, subsample=1, tree_method='exact',\n",
       "                validate_parameters=1, verbosity=None)]},\n",
       " {'feature_value': 2014,\n",
       "  'model': [XGBRegressor(base_score=0.5, booster='gbtree', colsample_bylevel=1,\n",
       "                colsample_bynode=1, colsample_bytree=1, enable_categorical=False,\n",
       "                gamma=0, gpu_id=-1, importance_type=None,\n",
       "                interaction_constraints='', learning_rate=0.300000012,\n",
       "                max_delta_step=0, max_depth=6, min_child_weight=1, missing=nan,\n",
       "                monotone_constraints='()', n_estimators=100, n_jobs=-1,\n",
       "                num_parallel_tree=1, predictor='auto', random_state=0, reg_alpha=0,\n",
       "                reg_lambda=1, scale_pos_weight=1, subsample=1, tree_method='exact',\n",
       "                validate_parameters=1, verbosity=None)]}]"
      ]
     },
     "execution_count": 65,
     "metadata": {},
     "output_type": "execute_result"
    }
   ],
   "source": [
    "create_models_per_feature('year')"
   ]
  },
  {
   "attachments": {},
   "cell_type": "markdown",
   "metadata": {},
   "source": [
    "## `open`"
   ]
  },
  {
   "cell_type": "code",
   "execution_count": 74,
   "metadata": {},
   "outputs": [
    {
     "data": {
      "text/html": [
       "<div>\n",
       "<style scoped>\n",
       "    .dataframe tbody tr th:only-of-type {\n",
       "        vertical-align: middle;\n",
       "    }\n",
       "\n",
       "    .dataframe tbody tr th {\n",
       "        vertical-align: top;\n",
       "    }\n",
       "\n",
       "    .dataframe thead th {\n",
       "        text-align: right;\n",
       "    }\n",
       "</style>\n",
       "<table border=\"1\" class=\"dataframe\">\n",
       "  <thead>\n",
       "    <tr style=\"text-align: right;\">\n",
       "      <th></th>\n",
       "      <th>R2</th>\n",
       "      <th>MSE</th>\n",
       "      <th>RMSE</th>\n",
       "      <th>MAE</th>\n",
       "      <th>day_of_week</th>\n",
       "    </tr>\n",
       "  </thead>\n",
       "  <tbody>\n",
       "    <tr>\n",
       "      <th>0</th>\n",
       "      <td>0.000000</td>\n",
       "      <td>2.618027e-32</td>\n",
       "      <td>1.618032e-16</td>\n",
       "      <td>1.618032e-16</td>\n",
       "      <td>0</td>\n",
       "    </tr>\n",
       "    <tr>\n",
       "      <th>1</th>\n",
       "      <td>0.915138</td>\n",
       "      <td>8.260657e+05</td>\n",
       "      <td>9.088816e+02</td>\n",
       "      <td>6.895818e+02</td>\n",
       "      <td>1</td>\n",
       "    </tr>\n",
       "  </tbody>\n",
       "</table>\n",
       "</div>"
      ],
      "text/plain": [
       "         R2           MSE          RMSE           MAE  day_of_week\n",
       "0  0.000000  2.618027e-32  1.618032e-16  1.618032e-16            0\n",
       "1  0.915138  8.260657e+05  9.088816e+02  6.895818e+02            1"
      ]
     },
     "metadata": {},
     "output_type": "display_data"
    },
    {
     "data": {
      "text/plain": [
       "[{'feature_value': 1,\n",
       "  'model': [XGBRegressor(base_score=0.5, booster='gbtree', colsample_bylevel=1,\n",
       "                colsample_bynode=1, colsample_bytree=1, enable_categorical=False,\n",
       "                gamma=0, gpu_id=-1, importance_type=None,\n",
       "                interaction_constraints='', learning_rate=0.300000012,\n",
       "                max_delta_step=0, max_depth=6, min_child_weight=1, missing=nan,\n",
       "                monotone_constraints='()', n_estimators=100, n_jobs=-1,\n",
       "                num_parallel_tree=1, predictor='auto', random_state=0, reg_alpha=0,\n",
       "                reg_lambda=1, scale_pos_weight=1, subsample=1, tree_method='exact',\n",
       "                validate_parameters=1, verbosity=None)]},\n",
       " {'feature_value': 0,\n",
       "  'model': [XGBRegressor(base_score=0.5, booster='gbtree', colsample_bylevel=1,\n",
       "                colsample_bynode=1, colsample_bytree=1, enable_categorical=False,\n",
       "                gamma=0, gpu_id=-1, importance_type=None,\n",
       "                interaction_constraints='', learning_rate=0.300000012,\n",
       "                max_delta_step=0, max_depth=6, min_child_weight=1, missing=nan,\n",
       "                monotone_constraints='()', n_estimators=100, n_jobs=-1,\n",
       "                num_parallel_tree=1, predictor='auto', random_state=0, reg_alpha=0,\n",
       "                reg_lambda=1, scale_pos_weight=1, subsample=1, tree_method='exact',\n",
       "                validate_parameters=1, verbosity=None)]}]"
      ]
     },
     "execution_count": 74,
     "metadata": {},
     "output_type": "execute_result"
    }
   ],
   "source": [
    "create_models_per_feature('open')"
   ]
  },
  {
   "attachments": {},
   "cell_type": "markdown",
   "metadata": {},
   "source": [
    "## `promotion`"
   ]
  },
  {
   "cell_type": "code",
   "execution_count": 76,
   "metadata": {},
   "outputs": [
    {
     "data": {
      "text/html": [
       "<div>\n",
       "<style scoped>\n",
       "    .dataframe tbody tr th:only-of-type {\n",
       "        vertical-align: middle;\n",
       "    }\n",
       "\n",
       "    .dataframe tbody tr th {\n",
       "        vertical-align: top;\n",
       "    }\n",
       "\n",
       "    .dataframe thead th {\n",
       "        text-align: right;\n",
       "    }\n",
       "</style>\n",
       "<table border=\"1\" class=\"dataframe\">\n",
       "  <thead>\n",
       "    <tr style=\"text-align: right;\">\n",
       "      <th></th>\n",
       "      <th>R2</th>\n",
       "      <th>MSE</th>\n",
       "      <th>RMSE</th>\n",
       "      <th>MAE</th>\n",
       "      <th>day_of_week</th>\n",
       "    </tr>\n",
       "  </thead>\n",
       "  <tbody>\n",
       "    <tr>\n",
       "      <th>0</th>\n",
       "      <td>0.969484</td>\n",
       "      <td>365813.420749</td>\n",
       "      <td>604.825116</td>\n",
       "      <td>404.902095</td>\n",
       "      <td>0</td>\n",
       "    </tr>\n",
       "    <tr>\n",
       "      <th>1</th>\n",
       "      <td>0.923548</td>\n",
       "      <td>892209.347433</td>\n",
       "      <td>944.568339</td>\n",
       "      <td>722.817392</td>\n",
       "      <td>1</td>\n",
       "    </tr>\n",
       "  </tbody>\n",
       "</table>\n",
       "</div>"
      ],
      "text/plain": [
       "         R2            MSE        RMSE         MAE  day_of_week\n",
       "0  0.969484  365813.420749  604.825116  404.902095            0\n",
       "1  0.923548  892209.347433  944.568339  722.817392            1"
      ]
     },
     "metadata": {},
     "output_type": "display_data"
    },
    {
     "data": {
      "text/plain": [
       "[{'feature_value': 0,\n",
       "  'model': [XGBRegressor(base_score=0.5, booster='gbtree', colsample_bylevel=1,\n",
       "                colsample_bynode=1, colsample_bytree=1, enable_categorical=False,\n",
       "                gamma=0, gpu_id=-1, importance_type=None,\n",
       "                interaction_constraints='', learning_rate=0.300000012,\n",
       "                max_delta_step=0, max_depth=6, min_child_weight=1, missing=nan,\n",
       "                monotone_constraints='()', n_estimators=100, n_jobs=-1,\n",
       "                num_parallel_tree=1, predictor='auto', random_state=0, reg_alpha=0,\n",
       "                reg_lambda=1, scale_pos_weight=1, subsample=1, tree_method='exact',\n",
       "                validate_parameters=1, verbosity=None)]},\n",
       " {'feature_value': 1,\n",
       "  'model': [XGBRegressor(base_score=0.5, booster='gbtree', colsample_bylevel=1,\n",
       "                colsample_bynode=1, colsample_bytree=1, enable_categorical=False,\n",
       "                gamma=0, gpu_id=-1, importance_type=None,\n",
       "                interaction_constraints='', learning_rate=0.300000012,\n",
       "                max_delta_step=0, max_depth=6, min_child_weight=1, missing=nan,\n",
       "                monotone_constraints='()', n_estimators=100, n_jobs=-1,\n",
       "                num_parallel_tree=1, predictor='auto', random_state=0, reg_alpha=0,\n",
       "                reg_lambda=1, scale_pos_weight=1, subsample=1, tree_method='exact',\n",
       "                validate_parameters=1, verbosity=None)]}]"
      ]
     },
     "execution_count": 76,
     "metadata": {},
     "output_type": "execute_result"
    }
   ],
   "source": [
    "create_models_per_feature('promotion')"
   ]
  },
  {
   "attachments": {},
   "cell_type": "markdown",
   "metadata": {},
   "source": [
    "## `state_holiday`"
   ]
  },
  {
   "cell_type": "code",
   "execution_count": 77,
   "metadata": {},
   "outputs": [
    {
     "data": {
      "text/html": [
       "<div>\n",
       "<style scoped>\n",
       "    .dataframe tbody tr th:only-of-type {\n",
       "        vertical-align: middle;\n",
       "    }\n",
       "\n",
       "    .dataframe tbody tr th {\n",
       "        vertical-align: top;\n",
       "    }\n",
       "\n",
       "    .dataframe thead th {\n",
       "        text-align: right;\n",
       "    }\n",
       "</style>\n",
       "<table border=\"1\" class=\"dataframe\">\n",
       "  <thead>\n",
       "    <tr style=\"text-align: right;\">\n",
       "      <th></th>\n",
       "      <th>R2</th>\n",
       "      <th>MSE</th>\n",
       "      <th>RMSE</th>\n",
       "      <th>MAE</th>\n",
       "      <th>day_of_week</th>\n",
       "    </tr>\n",
       "  </thead>\n",
       "  <tbody>\n",
       "    <tr>\n",
       "      <th>0</th>\n",
       "      <td>0.986900</td>\n",
       "      <td>5.871640e+04</td>\n",
       "      <td>242.314679</td>\n",
       "      <td>30.158677</td>\n",
       "      <td>1</td>\n",
       "    </tr>\n",
       "    <tr>\n",
       "      <th>1</th>\n",
       "      <td>0.956299</td>\n",
       "      <td>6.252776e+05</td>\n",
       "      <td>790.744937</td>\n",
       "      <td>565.274805</td>\n",
       "      <td>0</td>\n",
       "    </tr>\n",
       "    <tr>\n",
       "      <th>2</th>\n",
       "      <td>0.705125</td>\n",
       "      <td>7.665170e+05</td>\n",
       "      <td>875.509565</td>\n",
       "      <td>91.395999</td>\n",
       "      <td>3</td>\n",
       "    </tr>\n",
       "    <tr>\n",
       "      <th>3</th>\n",
       "      <td>-0.016362</td>\n",
       "      <td>1.709362e+06</td>\n",
       "      <td>1307.425719</td>\n",
       "      <td>125.348130</td>\n",
       "      <td>2</td>\n",
       "    </tr>\n",
       "  </tbody>\n",
       "</table>\n",
       "</div>"
      ],
      "text/plain": [
       "         R2           MSE         RMSE         MAE  day_of_week\n",
       "0  0.986900  5.871640e+04   242.314679   30.158677            1\n",
       "1  0.956299  6.252776e+05   790.744937  565.274805            0\n",
       "2  0.705125  7.665170e+05   875.509565   91.395999            3\n",
       "3 -0.016362  1.709362e+06  1307.425719  125.348130            2"
      ]
     },
     "metadata": {},
     "output_type": "display_data"
    },
    {
     "data": {
      "text/plain": [
       "[{'feature_value': 0,\n",
       "  'model': [XGBRegressor(base_score=0.5, booster='gbtree', colsample_bylevel=1,\n",
       "                colsample_bynode=1, colsample_bytree=1, enable_categorical=False,\n",
       "                gamma=0, gpu_id=-1, importance_type=None,\n",
       "                interaction_constraints='', learning_rate=0.300000012,\n",
       "                max_delta_step=0, max_depth=6, min_child_weight=1, missing=nan,\n",
       "                monotone_constraints='()', n_estimators=100, n_jobs=-1,\n",
       "                num_parallel_tree=1, predictor='auto', random_state=0, reg_alpha=0,\n",
       "                reg_lambda=1, scale_pos_weight=1, subsample=1, tree_method='exact',\n",
       "                validate_parameters=1, verbosity=None)]},\n",
       " {'feature_value': 1,\n",
       "  'model': [XGBRegressor(base_score=0.5, booster='gbtree', colsample_bylevel=1,\n",
       "                colsample_bynode=1, colsample_bytree=1, enable_categorical=False,\n",
       "                gamma=0, gpu_id=-1, importance_type=None,\n",
       "                interaction_constraints='', learning_rate=0.300000012,\n",
       "                max_delta_step=0, max_depth=6, min_child_weight=1, missing=nan,\n",
       "                monotone_constraints='()', n_estimators=100, n_jobs=-1,\n",
       "                num_parallel_tree=1, predictor='auto', random_state=0, reg_alpha=0,\n",
       "                reg_lambda=1, scale_pos_weight=1, subsample=1, tree_method='exact',\n",
       "                validate_parameters=1, verbosity=None)]},\n",
       " {'feature_value': 2,\n",
       "  'model': [XGBRegressor(base_score=0.5, booster='gbtree', colsample_bylevel=1,\n",
       "                colsample_bynode=1, colsample_bytree=1, enable_categorical=False,\n",
       "                gamma=0, gpu_id=-1, importance_type=None,\n",
       "                interaction_constraints='', learning_rate=0.300000012,\n",
       "                max_delta_step=0, max_depth=6, min_child_weight=1, missing=nan,\n",
       "                monotone_constraints='()', n_estimators=100, n_jobs=-1,\n",
       "                num_parallel_tree=1, predictor='auto', random_state=0, reg_alpha=0,\n",
       "                reg_lambda=1, scale_pos_weight=1, subsample=1, tree_method='exact',\n",
       "                validate_parameters=1, verbosity=None)]},\n",
       " {'feature_value': 3,\n",
       "  'model': [XGBRegressor(base_score=0.5, booster='gbtree', colsample_bylevel=1,\n",
       "                colsample_bynode=1, colsample_bytree=1, enable_categorical=False,\n",
       "                gamma=0, gpu_id=-1, importance_type=None,\n",
       "                interaction_constraints='', learning_rate=0.300000012,\n",
       "                max_delta_step=0, max_depth=6, min_child_weight=1, missing=nan,\n",
       "                monotone_constraints='()', n_estimators=100, n_jobs=-1,\n",
       "                num_parallel_tree=1, predictor='auto', random_state=0, reg_alpha=0,\n",
       "                reg_lambda=1, scale_pos_weight=1, subsample=1, tree_method='exact',\n",
       "                validate_parameters=1, verbosity=None)]}]"
      ]
     },
     "execution_count": 77,
     "metadata": {},
     "output_type": "execute_result"
    }
   ],
   "source": [
    "create_models_per_feature('state_holiday')"
   ]
  },
  {
   "attachments": {},
   "cell_type": "markdown",
   "metadata": {},
   "source": [
    "## `school_holiday`"
   ]
  },
  {
   "cell_type": "code",
   "execution_count": 86,
   "metadata": {},
   "outputs": [
    {
     "data": {
      "text/html": [
       "<div>\n",
       "<style scoped>\n",
       "    .dataframe tbody tr th:only-of-type {\n",
       "        vertical-align: middle;\n",
       "    }\n",
       "\n",
       "    .dataframe tbody tr th {\n",
       "        vertical-align: top;\n",
       "    }\n",
       "\n",
       "    .dataframe thead th {\n",
       "        text-align: right;\n",
       "    }\n",
       "</style>\n",
       "<table border=\"1\" class=\"dataframe\">\n",
       "  <thead>\n",
       "    <tr style=\"text-align: right;\">\n",
       "      <th></th>\n",
       "      <th>R2</th>\n",
       "      <th>MSE</th>\n",
       "      <th>RMSE</th>\n",
       "      <th>MAE</th>\n",
       "      <th>feature_value</th>\n",
       "    </tr>\n",
       "  </thead>\n",
       "  <tbody>\n",
       "    <tr>\n",
       "      <th>0</th>\n",
       "      <td>0.950559</td>\n",
       "      <td>7.354521e+05</td>\n",
       "      <td>857.585029</td>\n",
       "      <td>620.034542</td>\n",
       "      <td>0</td>\n",
       "    </tr>\n",
       "    <tr>\n",
       "      <th>1</th>\n",
       "      <td>0.886357</td>\n",
       "      <td>1.598503e+06</td>\n",
       "      <td>1264.319126</td>\n",
       "      <td>957.316088</td>\n",
       "      <td>1</td>\n",
       "    </tr>\n",
       "  </tbody>\n",
       "</table>\n",
       "</div>"
      ],
      "text/plain": [
       "         R2           MSE         RMSE         MAE  feature_value\n",
       "0  0.950559  7.354521e+05   857.585029  620.034542              0\n",
       "1  0.886357  1.598503e+06  1264.319126  957.316088              1"
      ]
     },
     "metadata": {},
     "output_type": "display_data"
    },
    {
     "data": {
      "text/plain": [
       "[{'feature_value': 0,\n",
       "  'model': [XGBRegressor(base_score=0.5, booster='gbtree', colsample_bylevel=1,\n",
       "                colsample_bynode=1, colsample_bytree=1, enable_categorical=False,\n",
       "                gamma=0, gpu_id=-1, importance_type=None,\n",
       "                interaction_constraints='', learning_rate=0.300000012,\n",
       "                max_delta_step=0, max_depth=6, min_child_weight=1, missing=nan,\n",
       "                monotone_constraints='()', n_estimators=100, n_jobs=-1,\n",
       "                num_parallel_tree=1, predictor='auto', random_state=0, reg_alpha=0,\n",
       "                reg_lambda=1, scale_pos_weight=1, subsample=1, tree_method='exact',\n",
       "                validate_parameters=1, verbosity=None)]},\n",
       " {'feature_value': 1,\n",
       "  'model': [XGBRegressor(base_score=0.5, booster='gbtree', colsample_bylevel=1,\n",
       "                colsample_bynode=1, colsample_bytree=1, enable_categorical=False,\n",
       "                gamma=0, gpu_id=-1, importance_type=None,\n",
       "                interaction_constraints='', learning_rate=0.300000012,\n",
       "                max_delta_step=0, max_depth=6, min_child_weight=1, missing=nan,\n",
       "                monotone_constraints='()', n_estimators=100, n_jobs=-1,\n",
       "                num_parallel_tree=1, predictor='auto', random_state=0, reg_alpha=0,\n",
       "                reg_lambda=1, scale_pos_weight=1, subsample=1, tree_method='exact',\n",
       "                validate_parameters=1, verbosity=None)]}]"
      ]
     },
     "execution_count": 86,
     "metadata": {},
     "output_type": "execute_result"
    }
   ],
   "source": [
    "create_models_per_feature('school_holiday')"
   ]
  },
  {
   "attachments": {},
   "cell_type": "markdown",
   "metadata": {},
   "source": [
    "# `Save models per day_of_week`"
   ]
  },
  {
   "cell_type": "code",
   "execution_count": 49,
   "metadata": {},
   "outputs": [
    {
     "data": {
      "text/plain": [
       "[None, None, None, None, None, None, None]"
      ]
     },
     "execution_count": 49,
     "metadata": {},
     "output_type": "execute_result"
    }
   ],
   "source": [
    "def save_model(model):\n",
    "    with open(f\"models/XGBRegressor_sales_model_day{model['feature_value']}.pkl\", 'wb') as f:\n",
    "        pickle.dump(model['model'], f)\n",
    "\n",
    "[save_model(model) for model in day_of_week_models]"
   ]
  },
  {
   "attachments": {},
   "cell_type": "markdown",
   "metadata": {},
   "source": [
    "# `Load models per day_of_week`"
   ]
  },
  {
   "cell_type": "code",
   "execution_count": 51,
   "metadata": {},
   "outputs": [],
   "source": [
    "with open(f'models/XGBRegressor_sales_model_day1.pkl', \"rb\") as f:\n",
    "    XGBRegressor_sales_model_day1_model = pickle.load(f)\n",
    "\n",
    "with open(f'models/XGBRegressor_sales_model_day2.pkl', \"rb\") as f:\n",
    "    XGBRegressor_sales_model_day2_model = pickle.load(f)\n",
    "\n",
    "with open(f'models/XGBRegressor_sales_model_day3.pkl', \"rb\") as f:\n",
    "    XGBRegressor_sales_model_day3_model = pickle.load(f)\n",
    "\n",
    "with open(f'models/XGBRegressor_sales_model_day4.pkl', \"rb\") as f:\n",
    "    XGBRegressor_sales_model_day4_model = pickle.load(f)\n",
    "\n",
    "with open(f'models/XGBRegressor_sales_model_day5.pkl', \"rb\") as f:\n",
    "    XGBRegressor_sales_model_day5_model = pickle.load(f)\n",
    "\n",
    "with open(f'models/XGBRegressor_sales_model_day6.pkl', \"rb\") as f:\n",
    "    XGBRegressor_sales_model_day6_model = pickle.load(f)\n",
    "\n",
    "with open(f'models/XGBRegressor_sales_model_day7.pkl', \"rb\") as f:\n",
    "    XGBRegressor_sales_model_day7_model = pickle.load(f)"
   ]
  },
  {
   "attachments": {},
   "cell_type": "markdown",
   "metadata": {},
   "source": [
    "# `Predict sales`"
   ]
  },
  {
   "cell_type": "code",
   "execution_count": 52,
   "metadata": {},
   "outputs": [
    {
     "data": {
      "text/plain": [
       "(71205, 9)"
      ]
     },
     "execution_count": 52,
     "metadata": {},
     "output_type": "execute_result"
    }
   ],
   "source": [
    "validation_data = pd.read_csv('validation_for_students.csv')\n",
    "validation_data.shape"
   ]
  },
  {
   "cell_type": "code",
   "execution_count": 53,
   "metadata": {},
   "outputs": [
    {
     "data": {
      "text/html": [
       "<div>\n",
       "<style scoped>\n",
       "    .dataframe tbody tr th:only-of-type {\n",
       "        vertical-align: middle;\n",
       "    }\n",
       "\n",
       "    .dataframe tbody tr th {\n",
       "        vertical-align: top;\n",
       "    }\n",
       "\n",
       "    .dataframe thead th {\n",
       "        text-align: right;\n",
       "    }\n",
       "</style>\n",
       "<table border=\"1\" class=\"dataframe\">\n",
       "  <thead>\n",
       "    <tr style=\"text-align: right;\">\n",
       "      <th></th>\n",
       "      <th>True_index</th>\n",
       "      <th>Store_ID</th>\n",
       "      <th>Day_of_week</th>\n",
       "      <th>Date</th>\n",
       "      <th>Nb_customers_on_day</th>\n",
       "      <th>Open</th>\n",
       "      <th>Promotion</th>\n",
       "      <th>State_holiday</th>\n",
       "      <th>School_holiday</th>\n",
       "    </tr>\n",
       "  </thead>\n",
       "  <tbody>\n",
       "    <tr>\n",
       "      <th>0</th>\n",
       "      <td>7</td>\n",
       "      <td>764</td>\n",
       "      <td>4</td>\n",
       "      <td>2013-12-26</td>\n",
       "      <td>0</td>\n",
       "      <td>0</td>\n",
       "      <td>0</td>\n",
       "      <td>c</td>\n",
       "      <td>1</td>\n",
       "    </tr>\n",
       "    <tr>\n",
       "      <th>1</th>\n",
       "      <td>19</td>\n",
       "      <td>22</td>\n",
       "      <td>3</td>\n",
       "      <td>2013-05-22</td>\n",
       "      <td>449</td>\n",
       "      <td>1</td>\n",
       "      <td>0</td>\n",
       "      <td>0</td>\n",
       "      <td>1</td>\n",
       "    </tr>\n",
       "    <tr>\n",
       "      <th>2</th>\n",
       "      <td>31</td>\n",
       "      <td>1087</td>\n",
       "      <td>6</td>\n",
       "      <td>2013-06-29</td>\n",
       "      <td>622</td>\n",
       "      <td>1</td>\n",
       "      <td>0</td>\n",
       "      <td>0</td>\n",
       "      <td>0</td>\n",
       "    </tr>\n",
       "    <tr>\n",
       "      <th>3</th>\n",
       "      <td>45</td>\n",
       "      <td>139</td>\n",
       "      <td>6</td>\n",
       "      <td>2013-08-17</td>\n",
       "      <td>314</td>\n",
       "      <td>1</td>\n",
       "      <td>0</td>\n",
       "      <td>0</td>\n",
       "      <td>0</td>\n",
       "    </tr>\n",
       "    <tr>\n",
       "      <th>4</th>\n",
       "      <td>56</td>\n",
       "      <td>568</td>\n",
       "      <td>1</td>\n",
       "      <td>2014-04-07</td>\n",
       "      <td>356</td>\n",
       "      <td>1</td>\n",
       "      <td>0</td>\n",
       "      <td>0</td>\n",
       "      <td>0</td>\n",
       "    </tr>\n",
       "  </tbody>\n",
       "</table>\n",
       "</div>"
      ],
      "text/plain": [
       "   True_index  Store_ID  Day_of_week        Date  Nb_customers_on_day  Open  \\\n",
       "0           7       764            4  2013-12-26                    0     0   \n",
       "1          19        22            3  2013-05-22                  449     1   \n",
       "2          31      1087            6  2013-06-29                  622     1   \n",
       "3          45       139            6  2013-08-17                  314     1   \n",
       "4          56       568            1  2014-04-07                  356     1   \n",
       "\n",
       "   Promotion State_holiday  School_holiday  \n",
       "0          0             c               1  \n",
       "1          0             0               1  \n",
       "2          0             0               0  \n",
       "3          0             0               0  \n",
       "4          0             0               0  "
      ]
     },
     "execution_count": 53,
     "metadata": {},
     "output_type": "execute_result"
    }
   ],
   "source": [
    "validation_data.head()"
   ]
  },
  {
   "cell_type": "code",
   "execution_count": 54,
   "metadata": {},
   "outputs": [],
   "source": [
    "validation_data.columns = validation_data.columns.str.lower()"
   ]
  },
  {
   "cell_type": "code",
   "execution_count": 55,
   "metadata": {},
   "outputs": [
    {
     "data": {
      "text/html": [
       "<div>\n",
       "<style scoped>\n",
       "    .dataframe tbody tr th:only-of-type {\n",
       "        vertical-align: middle;\n",
       "    }\n",
       "\n",
       "    .dataframe tbody tr th {\n",
       "        vertical-align: top;\n",
       "    }\n",
       "\n",
       "    .dataframe thead th {\n",
       "        text-align: right;\n",
       "    }\n",
       "</style>\n",
       "<table border=\"1\" class=\"dataframe\">\n",
       "  <thead>\n",
       "    <tr style=\"text-align: right;\">\n",
       "      <th></th>\n",
       "      <th>true_index</th>\n",
       "      <th>store_id</th>\n",
       "      <th>day_of_week</th>\n",
       "      <th>date</th>\n",
       "      <th>nb_customers_on_day</th>\n",
       "      <th>open</th>\n",
       "      <th>promotion</th>\n",
       "      <th>state_holiday</th>\n",
       "      <th>school_holiday</th>\n",
       "    </tr>\n",
       "  </thead>\n",
       "  <tbody>\n",
       "    <tr>\n",
       "      <th>0</th>\n",
       "      <td>7</td>\n",
       "      <td>764</td>\n",
       "      <td>4</td>\n",
       "      <td>2013-12-26</td>\n",
       "      <td>0</td>\n",
       "      <td>0</td>\n",
       "      <td>0</td>\n",
       "      <td>c</td>\n",
       "      <td>1</td>\n",
       "    </tr>\n",
       "    <tr>\n",
       "      <th>1</th>\n",
       "      <td>19</td>\n",
       "      <td>22</td>\n",
       "      <td>3</td>\n",
       "      <td>2013-05-22</td>\n",
       "      <td>449</td>\n",
       "      <td>1</td>\n",
       "      <td>0</td>\n",
       "      <td>0</td>\n",
       "      <td>1</td>\n",
       "    </tr>\n",
       "    <tr>\n",
       "      <th>2</th>\n",
       "      <td>31</td>\n",
       "      <td>1087</td>\n",
       "      <td>6</td>\n",
       "      <td>2013-06-29</td>\n",
       "      <td>622</td>\n",
       "      <td>1</td>\n",
       "      <td>0</td>\n",
       "      <td>0</td>\n",
       "      <td>0</td>\n",
       "    </tr>\n",
       "    <tr>\n",
       "      <th>3</th>\n",
       "      <td>45</td>\n",
       "      <td>139</td>\n",
       "      <td>6</td>\n",
       "      <td>2013-08-17</td>\n",
       "      <td>314</td>\n",
       "      <td>1</td>\n",
       "      <td>0</td>\n",
       "      <td>0</td>\n",
       "      <td>0</td>\n",
       "    </tr>\n",
       "    <tr>\n",
       "      <th>4</th>\n",
       "      <td>56</td>\n",
       "      <td>568</td>\n",
       "      <td>1</td>\n",
       "      <td>2014-04-07</td>\n",
       "      <td>356</td>\n",
       "      <td>1</td>\n",
       "      <td>0</td>\n",
       "      <td>0</td>\n",
       "      <td>0</td>\n",
       "    </tr>\n",
       "  </tbody>\n",
       "</table>\n",
       "</div>"
      ],
      "text/plain": [
       "   true_index  store_id  day_of_week        date  nb_customers_on_day  open  \\\n",
       "0           7       764            4  2013-12-26                    0     0   \n",
       "1          19        22            3  2013-05-22                  449     1   \n",
       "2          31      1087            6  2013-06-29                  622     1   \n",
       "3          45       139            6  2013-08-17                  314     1   \n",
       "4          56       568            1  2014-04-07                  356     1   \n",
       "\n",
       "   promotion state_holiday  school_holiday  \n",
       "0          0             c               1  \n",
       "1          0             0               1  \n",
       "2          0             0               0  \n",
       "3          0             0               0  \n",
       "4          0             0               0  "
      ]
     },
     "execution_count": 55,
     "metadata": {},
     "output_type": "execute_result"
    }
   ],
   "source": [
    "validation_data.head()"
   ]
  },
  {
   "cell_type": "code",
   "execution_count": 56,
   "metadata": {},
   "outputs": [],
   "source": [
    "validation_data['date'] = pd.to_datetime(validation_data['date'])\n",
    "validation_data['year'] = validation_data['date'].dt.year\n",
    "validation_data['month'] = validation_data['date'].dt.month\n",
    "validation_data['day'] = validation_data['date'].dt.day\n",
    "\n",
    "validation_data.drop('date', axis=1, inplace=True)"
   ]
  },
  {
   "cell_type": "code",
   "execution_count": 57,
   "metadata": {},
   "outputs": [],
   "source": [
    "validation_data['state_holiday'] = pd.factorize(validation_data['state_holiday'])[0]"
   ]
  },
  {
   "cell_type": "code",
   "execution_count": 58,
   "metadata": {},
   "outputs": [
    {
     "data": {
      "text/html": [
       "<div>\n",
       "<style scoped>\n",
       "    .dataframe tbody tr th:only-of-type {\n",
       "        vertical-align: middle;\n",
       "    }\n",
       "\n",
       "    .dataframe tbody tr th {\n",
       "        vertical-align: top;\n",
       "    }\n",
       "\n",
       "    .dataframe thead th {\n",
       "        text-align: right;\n",
       "    }\n",
       "</style>\n",
       "<table border=\"1\" class=\"dataframe\">\n",
       "  <thead>\n",
       "    <tr style=\"text-align: right;\">\n",
       "      <th></th>\n",
       "      <th>true_index</th>\n",
       "      <th>store_id</th>\n",
       "      <th>day_of_week</th>\n",
       "      <th>nb_customers_on_day</th>\n",
       "      <th>open</th>\n",
       "      <th>promotion</th>\n",
       "      <th>state_holiday</th>\n",
       "      <th>school_holiday</th>\n",
       "      <th>year</th>\n",
       "      <th>month</th>\n",
       "      <th>day</th>\n",
       "    </tr>\n",
       "  </thead>\n",
       "  <tbody>\n",
       "    <tr>\n",
       "      <th>0</th>\n",
       "      <td>7</td>\n",
       "      <td>764</td>\n",
       "      <td>4</td>\n",
       "      <td>0</td>\n",
       "      <td>0</td>\n",
       "      <td>0</td>\n",
       "      <td>0</td>\n",
       "      <td>1</td>\n",
       "      <td>2013</td>\n",
       "      <td>12</td>\n",
       "      <td>26</td>\n",
       "    </tr>\n",
       "    <tr>\n",
       "      <th>1</th>\n",
       "      <td>19</td>\n",
       "      <td>22</td>\n",
       "      <td>3</td>\n",
       "      <td>449</td>\n",
       "      <td>1</td>\n",
       "      <td>0</td>\n",
       "      <td>1</td>\n",
       "      <td>1</td>\n",
       "      <td>2013</td>\n",
       "      <td>5</td>\n",
       "      <td>22</td>\n",
       "    </tr>\n",
       "    <tr>\n",
       "      <th>2</th>\n",
       "      <td>31</td>\n",
       "      <td>1087</td>\n",
       "      <td>6</td>\n",
       "      <td>622</td>\n",
       "      <td>1</td>\n",
       "      <td>0</td>\n",
       "      <td>1</td>\n",
       "      <td>0</td>\n",
       "      <td>2013</td>\n",
       "      <td>6</td>\n",
       "      <td>29</td>\n",
       "    </tr>\n",
       "    <tr>\n",
       "      <th>3</th>\n",
       "      <td>45</td>\n",
       "      <td>139</td>\n",
       "      <td>6</td>\n",
       "      <td>314</td>\n",
       "      <td>1</td>\n",
       "      <td>0</td>\n",
       "      <td>1</td>\n",
       "      <td>0</td>\n",
       "      <td>2013</td>\n",
       "      <td>8</td>\n",
       "      <td>17</td>\n",
       "    </tr>\n",
       "    <tr>\n",
       "      <th>4</th>\n",
       "      <td>56</td>\n",
       "      <td>568</td>\n",
       "      <td>1</td>\n",
       "      <td>356</td>\n",
       "      <td>1</td>\n",
       "      <td>0</td>\n",
       "      <td>1</td>\n",
       "      <td>0</td>\n",
       "      <td>2014</td>\n",
       "      <td>4</td>\n",
       "      <td>7</td>\n",
       "    </tr>\n",
       "  </tbody>\n",
       "</table>\n",
       "</div>"
      ],
      "text/plain": [
       "   true_index  store_id  day_of_week  nb_customers_on_day  open  promotion  \\\n",
       "0           7       764            4                    0     0          0   \n",
       "1          19        22            3                  449     1          0   \n",
       "2          31      1087            6                  622     1          0   \n",
       "3          45       139            6                  314     1          0   \n",
       "4          56       568            1                  356     1          0   \n",
       "\n",
       "   state_holiday  school_holiday  year  month  day  \n",
       "0              0               1  2013     12   26  \n",
       "1              1               1  2013      5   22  \n",
       "2              1               0  2013      6   29  \n",
       "3              1               0  2013      8   17  \n",
       "4              1               0  2014      4    7  "
      ]
     },
     "execution_count": 58,
     "metadata": {},
     "output_type": "execute_result"
    }
   ],
   "source": [
    "validation_data.head()"
   ]
  },
  {
   "cell_type": "code",
   "execution_count": 59,
   "metadata": {},
   "outputs": [
    {
     "data": {
      "text/plain": [
       "(71205, 11)"
      ]
     },
     "execution_count": 59,
     "metadata": {},
     "output_type": "execute_result"
    }
   ],
   "source": [
    "validation_data.shape"
   ]
  },
  {
   "cell_type": "code",
   "execution_count": 60,
   "metadata": {},
   "outputs": [],
   "source": [
    "# unique_day_of_week = validation_data['day_of_week'].unique()\n",
    "unique_day_of_week_validation_data = sorted(validation_data['day_of_week'].unique())\n",
    "models_day_of_week_validation_data = [\n",
    "    XGBRegressor_sales_model_day1_model,\n",
    "    XGBRegressor_sales_model_day2_model,\n",
    "    XGBRegressor_sales_model_day3_model,\n",
    "    XGBRegressor_sales_model_day4_model,\n",
    "    XGBRegressor_sales_model_day5_model,\n",
    "    XGBRegressor_sales_model_day6_model,\n",
    "    XGBRegressor_sales_model_day7_model\n",
    "]\n",
    "\n",
    "def create_prediction_df(day_of_week, model):\n",
    "    filtered_df = validation_data[validation_data['day_of_week'] == day_of_week]\n",
    "    predictions = model.predict(filtered_df.drop(['true_index', 'day_of_week'], axis=1))\n",
    "    df = pd.concat([filtered_df[['true_index']].reset_index(), pd.DataFrame(predictions, columns=['sales'])], axis=1)\n",
    "\n",
    "    return df[['true_index', 'sales']]\n",
    "\n",
    "predictions_df_list = [create_prediction_df(day_of_week, models[0]) for day_of_week, models in zip(unique_day_of_week_validation_data, models_day_of_week_validation_data)]\n",
    "\n",
    "predicted_data = pd.concat(predictions_df_list, axis=0)"
   ]
  },
  {
   "cell_type": "code",
   "execution_count": 62,
   "metadata": {},
   "outputs": [
    {
     "data": {
      "text/plain": [
       "(71205, 2)"
      ]
     },
     "execution_count": 62,
     "metadata": {},
     "output_type": "execute_result"
    }
   ],
   "source": [
    "predicted_data.shape"
   ]
  },
  {
   "cell_type": "code",
   "execution_count": 61,
   "metadata": {},
   "outputs": [],
   "source": [
    "predicted_data.to_csv('predicted_data.csv')"
   ]
  }
 ],
 "metadata": {
  "kernelspec": {
   "display_name": "base",
   "language": "python",
   "name": "python3"
  },
  "language_info": {
   "codemirror_mode": {
    "name": "ipython",
    "version": 3
   },
   "file_extension": ".py",
   "mimetype": "text/x-python",
   "name": "python",
   "nbconvert_exporter": "python",
   "pygments_lexer": "ipython3",
   "version": "3.9.13"
  },
  "orig_nbformat": 4,
  "vscode": {
   "interpreter": {
    "hash": "40d3a090f54c6569ab1632332b64b2c03c39dcf918b08424e98f38b5ae0af88f"
   }
  }
 },
 "nbformat": 4,
 "nbformat_minor": 2
}
